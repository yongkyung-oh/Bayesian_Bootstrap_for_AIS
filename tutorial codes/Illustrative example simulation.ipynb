{
 "cells": [
  {
   "cell_type": "markdown",
   "metadata": {},
   "source": [
    "## Illustrative example for path finding"
   ]
  },
  {
   "cell_type": "code",
   "execution_count": 1,
   "metadata": {},
   "outputs": [],
   "source": [
    "import os\n",
    "import random\n",
    "import numpy as np\n",
    "import matplotlib.pyplot as plt\n",
    "\n",
    "from itertools import permutations\n",
    "from functions import *"
   ]
  },
  {
   "cell_type": "code",
   "execution_count": 2,
   "metadata": {},
   "outputs": [],
   "source": [
    "# setup seed\n",
    "def seed_everything(seed):\n",
    "    random.seed(seed)\n",
    "    os.environ['PYTHONHASHSEED'] = str(seed)\n",
    "    np.random.seed(seed)\n",
    "\n",
    "SEED = 0\n",
    "seed_everything(SEED)"
   ]
  },
  {
   "cell_type": "code",
   "execution_count": 3,
   "metadata": {},
   "outputs": [],
   "source": [
    "simulations_list = []"
   ]
  },
  {
   "cell_type": "markdown",
   "metadata": {},
   "source": [
    "#### Define random case"
   ]
  },
  {
   "cell_type": "code",
   "execution_count": 4,
   "metadata": {},
   "outputs": [
    {
     "data": {
      "image/png": "[encoded data removed]",
      "text/plain": [
       "<Figure size 432x288 with 1 Axes>"
      ]
     },
     "metadata": {
      "needs_background": "light"
     },
     "output_type": "display_data"
    }
   ],
   "source": [
    "nc=4\n",
    "nr=3\n",
    "\n",
    "X = np.array([10,9,3,0,3,10,10,7,0,1,1,10]).reshape(nr,nc)\n",
    "\n",
    "plt.imshow(X, cmap='Blues')\n",
    "plt.axis('off')\n",
    "\n",
    "for (j,i),label in np.ndenumerate(X):\n",
    "    plt.text(i,j,label,ha='center',va='center', fontsize=15)\n",
    "\n",
    "plt.savefig('figs/ex_normal.png')\n",
    "plt.show()"
   ]
  },
  {
   "cell_type": "markdown",
   "metadata": {},
   "source": [
    "### Get list of unique routes \n",
    "- Assume that we started from (0,0) to (2,3)\n",
    "- Define 1 as rightward, -1 as downword"
   ]
  },
  {
   "cell_type": "code",
   "execution_count": 5,
   "metadata": {},
   "outputs": [
    {
     "data": {
      "text/plain": [
       "array([[-1, -1,  1,  1,  1],\n",
       "       [-1,  1, -1,  1,  1],\n",
       "       [-1,  1,  1, -1,  1],\n",
       "       [-1,  1,  1,  1, -1],\n",
       "       [ 1, -1, -1,  1,  1],\n",
       "       [ 1, -1,  1, -1,  1],\n",
       "       [ 1, -1,  1,  1, -1],\n",
       "       [ 1,  1, -1, -1,  1],\n",
       "       [ 1,  1, -1,  1, -1],\n",
       "       [ 1,  1,  1, -1, -1]])"
      ]
     },
     "execution_count": 5,
     "metadata": {},
     "output_type": "execute_result"
    }
   ],
   "source": [
    "unique_routes = get_unique_routes(X)\n",
    "unique_routes"
   ]
  },
  {
   "cell_type": "code",
   "execution_count": 6,
   "metadata": {},
   "outputs": [
    {
     "data": {
      "text/plain": [
       "[{'path_id': 0, 'path': [(0, 0), (1, 0), (2, 0), (2, 1), (2, 2), (2, 3)]},\n",
       " {'path_id': 1, 'path': [(0, 0), (1, 0), (1, 1), (2, 1), (2, 2), (2, 3)]},\n",
       " {'path_id': 2, 'path': [(0, 0), (1, 0), (1, 1), (1, 2), (2, 2), (2, 3)]},\n",
       " {'path_id': 3, 'path': [(0, 0), (1, 0), (1, 1), (1, 2), (1, 3), (2, 3)]},\n",
       " {'path_id': 4, 'path': [(0, 0), (0, 1), (1, 1), (2, 1), (2, 2), (2, 3)]},\n",
       " {'path_id': 5, 'path': [(0, 0), (0, 1), (1, 1), (1, 2), (2, 2), (2, 3)]},\n",
       " {'path_id': 6, 'path': [(0, 0), (0, 1), (1, 1), (1, 2), (1, 3), (2, 3)]},\n",
       " {'path_id': 7, 'path': [(0, 0), (0, 1), (0, 2), (1, 2), (2, 2), (2, 3)]},\n",
       " {'path_id': 8, 'path': [(0, 0), (0, 1), (0, 2), (1, 2), (1, 3), (2, 3)]},\n",
       " {'path_id': 9, 'path': [(0, 0), (0, 1), (0, 2), (0, 3), (1, 3), (2, 3)]}]"
      ]
     },
     "execution_count": 6,
     "metadata": {},
     "output_type": "execute_result"
    }
   ],
   "source": [
    "unique_paths = get_path_from_routes(X, unique_routes)\n",
    "unique_paths"
   ]
  },
  {
   "cell_type": "markdown",
   "metadata": {},
   "source": [
    "### Get the route info\n",
    "- Calculate the weight sum of each path\n",
    "- Find the path with the largest weight sum"
   ]
  },
  {
   "cell_type": "code",
   "execution_count": 7,
   "metadata": {},
   "outputs": [
    {
     "data": {
      "text/plain": [
       "(6,\n",
       " [{'path_id': 0,\n",
       "   'path': [(0, 0), (1, 0), (2, 0), (2, 1), (2, 2), (2, 3)],\n",
       "   'sum_of_weight': 25},\n",
       "  {'path_id': 1,\n",
       "   'path': [(0, 0), (1, 0), (1, 1), (2, 1), (2, 2), (2, 3)],\n",
       "   'sum_of_weight': 35},\n",
       "  {'path_id': 2,\n",
       "   'path': [(0, 0), (1, 0), (1, 1), (1, 2), (2, 2), (2, 3)],\n",
       "   'sum_of_weight': 44},\n",
       "  {'path_id': 3,\n",
       "   'path': [(0, 0), (1, 0), (1, 1), (1, 2), (1, 3), (2, 3)],\n",
       "   'sum_of_weight': 50},\n",
       "  {'path_id': 4,\n",
       "   'path': [(0, 0), (0, 1), (1, 1), (2, 1), (2, 2), (2, 3)],\n",
       "   'sum_of_weight': 41},\n",
       "  {'path_id': 5,\n",
       "   'path': [(0, 0), (0, 1), (1, 1), (1, 2), (2, 2), (2, 3)],\n",
       "   'sum_of_weight': 50},\n",
       "  {'path_id': 6,\n",
       "   'path': [(0, 0), (0, 1), (1, 1), (1, 2), (1, 3), (2, 3)],\n",
       "   'sum_of_weight': 56},\n",
       "  {'path_id': 7,\n",
       "   'path': [(0, 0), (0, 1), (0, 2), (1, 2), (2, 2), (2, 3)],\n",
       "   'sum_of_weight': 43},\n",
       "  {'path_id': 8,\n",
       "   'path': [(0, 0), (0, 1), (0, 2), (1, 2), (1, 3), (2, 3)],\n",
       "   'sum_of_weight': 49},\n",
       "  {'path_id': 9,\n",
       "   'path': [(0, 0), (0, 1), (0, 2), (0, 3), (1, 3), (2, 3)],\n",
       "   'sum_of_weight': 39}])"
      ]
     },
     "execution_count": 7,
     "metadata": {},
     "output_type": "execute_result"
    }
   ],
   "source": [
    "route_info_list = get_path_info_from_matrix(X)\n",
    "route_info_list"
   ]
  },
  {
   "cell_type": "markdown",
   "metadata": {},
   "source": [
    "### Bayseian Bootstrap\n",
    "- Conduct baysian bootstrap with B=1000\n",
    "- Sample statistics find the largest weight sum route index\n",
    "- Using Dirichlet prior and data $X$"
   ]
  },
  {
   "cell_type": "code",
   "execution_count": 8,
   "metadata": {},
   "outputs": [
    {
     "data": {
      "text/plain": [
       "array([[  0,   1],\n",
       "       [  1,   3],\n",
       "       [  2,  26],\n",
       "       [  3, 193],\n",
       "       [  4,  16],\n",
       "       [  5,  70],\n",
       "       [  6, 468],\n",
       "       [  7,  34],\n",
       "       [  8, 186],\n",
       "       [  9,   3]])"
      ]
     },
     "execution_count": 8,
     "metadata": {},
     "output_type": "execute_result"
    }
   ],
   "source": [
    "boot_sample = bayesian_bootstrap(X, get_max_path_idx, 1000, unique_paths)\n",
    "\n",
    "boot_sample_out = []\n",
    "for idx in range(0,len(unique_routes)):\n",
    "    boot_sample_out.append([idx, sum(np.asarray(boot_sample)==idx)])\n",
    "boot_sample_out = np.vstack(boot_sample_out)\n",
    "boot_sample_out"
   ]
  },
  {
   "cell_type": "markdown",
   "metadata": {},
   "source": [
    "### Determine baseline\n",
    "- The baseline route is determined by the sampling frequency\n",
    "- **baseline**: Best route determined by bayesian bootstrap\n",
    "- **max_weight_route**: Largest weight route with the constraints "
   ]
  },
  {
   "cell_type": "code",
   "execution_count": 9,
   "metadata": {},
   "outputs": [
    {
     "data": {
      "text/plain": [
       "{'path_id': 6, 'path': [(0, 0), (0, 1), (1, 1), (1, 2), (1, 3), (2, 3)]}"
      ]
     },
     "execution_count": 9,
     "metadata": {},
     "output_type": "execute_result"
    }
   ],
   "source": [
    "baseline = unique_paths[np.argmax(boot_sample_out[:,1])]\n",
    "baseline"
   ]
  },
  {
   "cell_type": "code",
   "execution_count": 10,
   "metadata": {},
   "outputs": [
    {
     "data": {
      "text/plain": [
       "{'path_id': 6, 'path': [(0, 0), (0, 1), (1, 1), (1, 2), (1, 3), (2, 3)]}"
      ]
     },
     "execution_count": 10,
     "metadata": {},
     "output_type": "execute_result"
    }
   ],
   "source": [
    "max_weight_route = unique_paths[route_info_list[0]]\n",
    "max_weight_route"
   ]
  },
  {
   "cell_type": "code",
   "execution_count": 11,
   "metadata": {},
   "outputs": [
    {
     "data": {
      "image/png": "[encoded data removed]",
      "text/plain": [
       "<Figure size 432x288 with 1 Axes>"
      ]
     },
     "metadata": {
      "needs_background": "light"
     },
     "output_type": "display_data"
    }
   ],
   "source": [
    "simulations_list.append(boot_sample_out)\n",
    "\n",
    "plt.bar(boot_sample_out[:,0], boot_sample_out[:,1])\n",
    "plt.title('Path sampling with Bayesian Bootstrap: normal')\n",
    "plt.xlabel('Path index')\n",
    "plt.ylabel('Counts')\n",
    "plt.xticks(range(len(unique_paths)))\n",
    "plt.savefig('figs/ex_normal_distribution.png')\n",
    "plt.show()"
   ]
  },
  {
   "cell_type": "markdown",
   "metadata": {},
   "source": [
    "## Robustness "
   ]
  },
  {
   "cell_type": "markdown",
   "metadata": {},
   "source": [
    "#### Noisy case"
   ]
  },
  {
   "cell_type": "code",
   "execution_count": 12,
   "metadata": {},
   "outputs": [
    {
     "data": {
      "image/png": "[encoded data removed]",
      "text/plain": [
       "<Figure size 432x288 with 1 Axes>"
      ]
     },
     "metadata": {
      "needs_background": "light"
     },
     "output_type": "display_data"
    }
   ],
   "source": [
    "nc=4\n",
    "nr=3\n",
    "\n",
    "X = np.array([12,11,4,2,5,13,13,9,2,5,4,13]).reshape(nr,nc)\n",
    "\n",
    "plt.imshow(X, cmap='Blues')\n",
    "plt.axis('off')\n",
    "\n",
    "for (j,i),label in np.ndenumerate(X):\n",
    "    plt.text(i,j,int(label),ha='center',va='center', fontsize=15)\n",
    "\n",
    "plt.savefig('figs/ex_noisy.png')\n",
    "plt.show()"
   ]
  },
  {
   "cell_type": "code",
   "execution_count": 13,
   "metadata": {},
   "outputs": [],
   "source": [
    "unique_routes = get_unique_routes(X)\n",
    "unique_paths = get_path_from_routes(X, unique_routes)\n",
    "#path_info_list = get_path_info_from_matrix(X)\n",
    "boot_sample = bayesian_bootstrap(X, get_max_path_idx, 1000, unique_paths)\n",
    "\n",
    "boot_sample_out = []\n",
    "for idx in range(0,len(unique_routes)):\n",
    "    boot_sample_out.append([idx, sum(np.asarray(boot_sample)==idx)])\n",
    "boot_sample_out = np.vstack(boot_sample_out)\n",
    "\n",
    "best_route = unique_paths[np.argmax(boot_sample_out[:,1])]"
   ]
  },
  {
   "cell_type": "code",
   "execution_count": 14,
   "metadata": {},
   "outputs": [
    {
     "data": {
      "image/png": "[encoded data removed]",
      "text/plain": [
       "<Figure size 432x288 with 1 Axes>"
      ]
     },
     "metadata": {
      "needs_background": "light"
     },
     "output_type": "display_data"
    }
   ],
   "source": [
    "simulations_list.append(boot_sample_out)\n",
    "\n",
    "plt.bar(boot_sample_out[:,0], boot_sample_out[:,1])\n",
    "plt.title('Path sampling with Bayesian Bootstrap: noisy')\n",
    "plt.xlabel('Path index')\n",
    "plt.ylabel('Counts')\n",
    "plt.xticks(range(len(unique_paths)))\n",
    "plt.savefig('figs/ex_noisy_distribution.png')\n",
    "plt.show()"
   ]
  },
  {
   "cell_type": "markdown",
   "metadata": {},
   "source": [
    "## Data missing case"
   ]
  },
  {
   "cell_type": "code",
   "execution_count": 15,
   "metadata": {},
   "outputs": [
    {
     "data": {
      "image/png": "[encoded data removed]",
      "text/plain": [
       "<Figure size 432x288 with 1 Axes>"
      ]
     },
     "metadata": {
      "needs_background": "light"
     },
     "output_type": "display_data"
    }
   ],
   "source": [
    "nc=4\n",
    "nr=3\n",
    "\n",
    "X = np.array([10,9,3,0,3,10,0,0,0,0,0,10]).reshape(nr,nc)\n",
    "\n",
    "plt.imshow(X, cmap='Blues')\n",
    "plt.axis('off')\n",
    "\n",
    "for (j,i),label in np.ndenumerate(X):\n",
    "    plt.text(i,j,int(label),ha='center',va='center', fontsize=15)\n",
    "\n",
    "plt.savefig('figs/ex_missing.png')\n",
    "plt.show()"
   ]
  },
  {
   "cell_type": "code",
   "execution_count": 16,
   "metadata": {},
   "outputs": [],
   "source": [
    "unique_routes = get_unique_routes(X)\n",
    "unique_paths = get_path_from_routes(X, unique_routes)\n",
    "#path_info_list = get_path_info_from_matrix(X)\n",
    "boot_sample = bayesian_bootstrap(X, get_max_path_idx, 1000, unique_paths)\n",
    "\n",
    "boot_sample_out = []\n",
    "for idx in range(0,len(unique_routes)):\n",
    "    boot_sample_out.append([idx, sum(np.asarray(boot_sample)==idx)])\n",
    "boot_sample_out = np.vstack(boot_sample_out)\n",
    "\n",
    "best_route = unique_paths[np.argmax(boot_sample_out[:,1])]"
   ]
  },
  {
   "cell_type": "code",
   "execution_count": 17,
   "metadata": {},
   "outputs": [
    {
     "data": {
      "image/png": "[encoded data removed]",
      "text/plain": [
       "<Figure size 432x288 with 1 Axes>"
      ]
     },
     "metadata": {
      "needs_background": "light"
     },
     "output_type": "display_data"
    }
   ],
   "source": [
    "simulations_list.append(boot_sample_out)\n",
    "\n",
    "plt.bar(boot_sample_out[:,0], boot_sample_out[:,1])\n",
    "plt.title('Path sampling with Bayesian Bootstrap: missing')\n",
    "plt.xlabel('Path index')\n",
    "plt.ylabel('Counts')\n",
    "plt.xticks(range(len(unique_paths)))\n",
    "plt.savefig('figs/ex_missing_distribution.png')\n",
    "plt.show()"
   ]
  },
  {
   "cell_type": "markdown",
   "metadata": {},
   "source": [
    "## Compare results"
   ]
  },
  {
   "cell_type": "code",
   "execution_count": 18,
   "metadata": {},
   "outputs": [],
   "source": [
    "result_normal = simulations_list[0]\n",
    "result_noisy = simulations_list[1]\n",
    "result_missing = simulations_list[2]"
   ]
  },
  {
   "cell_type": "code",
   "execution_count": 19,
   "metadata": {},
   "outputs": [
    {
     "data": {
      "image/png": "[encoded data removed]",
      "text/plain": [
       "<Figure size 432x288 with 1 Axes>"
      ]
     },
     "metadata": {
      "needs_background": "light"
     },
     "output_type": "display_data"
    }
   ],
   "source": [
    "plt.bar(result_normal[:,0]-0.2, result_normal[:,1], width=0.2, align='center', label='normal')\n",
    "plt.bar(result_noisy[:,0], result_noisy[:,1], width=0.2, align='center', label='noisy')\n",
    "plt.bar(result_missing[:,0]+0.2, result_missing[:,1], width=0.2, align='center', label='missing')\n",
    "plt.legend()\n",
    "\n",
    "plt.title('Robust simulation for Path sampling with Bayesian Bootstrap')\n",
    "plt.xlabel('Path index')\n",
    "plt.ylabel('Counts')\n",
    "plt.xticks(range(len(unique_paths)))\n",
    "plt.savefig('figs/ex_simluation_comparison.png')\n",
    "plt.show()"
   ]
  },
  {
   "cell_type": "code",
   "execution_count": 20,
   "metadata": {},
   "outputs": [
    {
     "name": "stdout",
     "output_type": "stream",
     "text": [
      "best_route selection probability for normal: \t0.47%\n",
      "best_route selection probability for noisy: \t0.31%\n",
      "best_route selection probability for missing: \t0.21%\n"
     ]
    }
   ],
   "source": [
    "print('best_route selection probability for normal: \\t{:.2f}%'.format(result_normal[6,1]/np.sum(result_normal[:,1])))\n",
    "print('best_route selection probability for noisy: \\t{:.2f}%'.format(result_noisy[6,1]/np.sum(result_noisy[:,1])))\n",
    "print('best_route selection probability for missing: \\t{:.2f}%'.format(result_missing[6,1]/np.sum(result_missing[:,1])))"
   ]
  },
  {
   "cell_type": "code",
   "execution_count": null,
   "metadata": {},
   "outputs": [],
   "source": []
  }
 ],
 "metadata": {
  "kernelspec": {
   "display_name": "Python [conda env:test]",
   "language": "python",
   "name": "conda-env-test-py"
  },
  "language_info": {
   "codemirror_mode": {
    "name": "ipython",
    "version": 3
   },
   "file_extension": ".py",
   "mimetype": "text/x-python",
   "name": "python",
   "nbconvert_exporter": "python",
   "pygments_lexer": "ipython3",
   "version": "3.7.7"
  }
 },
 "nbformat": 4,
 "nbformat_minor": 4
}
