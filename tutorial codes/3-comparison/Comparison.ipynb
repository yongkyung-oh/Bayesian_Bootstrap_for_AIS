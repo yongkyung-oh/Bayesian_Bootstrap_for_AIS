{
 "cells": [
  {
   "cell_type": "markdown",
   "metadata": {},
   "source": [
    "## Compare with conventional path-finding algorithm"
   ]
  },
  {
   "cell_type": "code",
   "execution_count": 1,
   "metadata": {},
   "outputs": [],
   "source": [
    "import os\n",
    "import numpy as np\n",
    "import pandas as pd\n",
    "import matplotlib.pyplot as plt\n",
    "%matplotlib inline\n",
    "\n",
    "import math\n",
    "import time\n",
    "import pickle\n",
    "\n",
    "from itertools import permutations\n",
    "from functions import *\n",
    "\n",
    "np.random.seed(1234)"
   ]
  },
  {
   "cell_type": "code",
   "execution_count": 2,
   "metadata": {},
   "outputs": [
    {
     "data": {
      "text/plain": [
       "array([[10,  6,  5,  9],\n",
       "       [ 8,  9,  1,  7],\n",
       "       [ 9,  6,  8,  0],\n",
       "       [ 5,  0,  9, 10]])"
      ]
     },
     "execution_count": 2,
     "metadata": {},
     "output_type": "execute_result"
    }
   ],
   "source": [
    "nc=4\n",
    "nr=4\n",
    "\n",
    "x_d = 1\n",
    "y_d = 1\n",
    "\n",
    "X = np.random.randint(low=0, high=10, size=nc*nr).reshape(nr,nc)\n",
    "#X = np.array([10,9,3,0,3,10,10,7,0,1,1,10]).reshape(nr,nc)\n",
    "X\n",
    "\n",
    "X[0][0] = 10\n",
    "X[nr-1][nc-1] = 10\n",
    "#X[nr-1][0] = 9\n",
    "X[0][nc-1] = 9\n",
    "X"
   ]
  },
  {
   "cell_type": "code",
   "execution_count": null,
   "metadata": {},
   "outputs": [],
   "source": []
  },
  {
   "cell_type": "code",
   "execution_count": 3,
   "metadata": {},
   "outputs": [
    {
     "data": {
      "text/plain": [
       "array([[10,  6,  5,  9],\n",
       "       [ 8,  1,  1,  7],\n",
       "       [ 9,  6,  2,  4],\n",
       "       [ 5,  0,  9, 10]])"
      ]
     },
     "execution_count": 3,
     "metadata": {},
     "output_type": "execute_result"
    }
   ],
   "source": [
    "nc=4\n",
    "nr=4\n",
    "\n",
    "x_d = 1\n",
    "y_d = 1\n",
    "\n",
    "#X = np.random.randint(low=0, high=10, size=nc*nr).reshape(nr,nc)\n",
    "X = np.array([10,6,5,9,8,1,1,7,9,6,2,4,5,0,9,10]).reshape(nr,nc)\n",
    "X"
   ]
  },
  {
   "cell_type": "code",
   "execution_count": 4,
   "metadata": {},
   "outputs": [
    {
     "data": {
      "text/plain": [
       "array([[-1, -1, -1,  1,  1,  1],\n",
       "       [-1, -1,  1, -1,  1,  1],\n",
       "       [-1, -1,  1,  1, -1,  1],\n",
       "       [-1, -1,  1,  1,  1, -1],\n",
       "       [-1,  1, -1, -1,  1,  1],\n",
       "       [-1,  1, -1,  1, -1,  1],\n",
       "       [-1,  1, -1,  1,  1, -1],\n",
       "       [-1,  1,  1, -1, -1,  1],\n",
       "       [-1,  1,  1, -1,  1, -1],\n",
       "       [-1,  1,  1,  1, -1, -1],\n",
       "       [ 1, -1, -1, -1,  1,  1],\n",
       "       [ 1, -1, -1,  1, -1,  1],\n",
       "       [ 1, -1, -1,  1,  1, -1],\n",
       "       [ 1, -1,  1, -1, -1,  1],\n",
       "       [ 1, -1,  1, -1,  1, -1],\n",
       "       [ 1, -1,  1,  1, -1, -1],\n",
       "       [ 1,  1, -1, -1, -1,  1],\n",
       "       [ 1,  1, -1, -1,  1, -1],\n",
       "       [ 1,  1, -1,  1, -1, -1],\n",
       "       [ 1,  1,  1, -1, -1, -1]])"
      ]
     },
     "execution_count": 4,
     "metadata": {},
     "output_type": "execute_result"
    }
   ],
   "source": [
    "unique_routes = get_unique_routes(X)\n",
    "unique_routes"
   ]
  },
  {
   "cell_type": "code",
   "execution_count": null,
   "metadata": {},
   "outputs": [],
   "source": []
  },
  {
   "cell_type": "code",
   "execution_count": 5,
   "metadata": {},
   "outputs": [
    {
     "name": "stdout",
     "output_type": "stream",
     "text": [
      "max-weight route: 2\n",
      "best route: 19\n",
      "time (s): 0.12162490887567401\n"
     ]
    },
    {
     "data": {
      "image/png": "[encoded data removed]",
      "text/plain": [
       "<Figure size 432x288 with 1 Axes>"
      ]
     },
     "metadata": {
      "needs_background": "light"
     },
     "output_type": "display_data"
    }
   ],
   "source": [
    "start_time = time.perf_counter()\n",
    "\n",
    "if x_d == -1:\n",
    "    X = np.fliplr(X)\n",
    "if y_d == -1:\n",
    "    X = np.flipud(X)\n",
    "\n",
    "#unique_routes = get_unique_routes(X)\n",
    "unique_paths = get_path_from_routes(X, unique_routes)\n",
    "#path_info_list = get_path_info_from_matrix(X)\n",
    "boot_sample = bayesian_bootstrap(X, get_max_path_idx, 1000, unique_paths)\n",
    "\n",
    "boot_sample_out = []\n",
    "for idx in range(0,len(unique_routes)):\n",
    "    boot_sample_out.append([idx, sum(np.asarray(boot_sample)==idx)])\n",
    "boot_sample_out = np.vstack(boot_sample_out)\n",
    "#boot_sample_list.append(boot_sample_out)\n",
    "\n",
    "max_route = unique_paths[get_max_path_idx(X, unique_paths)[0]]\n",
    "#best_route = path_info_list[1][np.argmax(boot_sample_out[:,1])]\n",
    "best_route = unique_paths[np.argmax(boot_sample_out[:,1])]\n",
    "#best_route_list.append(best_route)\n",
    "\n",
    "print('max-weight route: {}'.format(get_max_path_idx(X, unique_paths)[0]))\n",
    "print('best route: {}'.format(np.argmax(boot_sample_out[:,1])))\n",
    "print('time (s): {}'.format(time.perf_counter()-start_time))\n",
    "\n",
    "plt.bar(boot_sample_out[:,0], boot_sample_out[:,1])\n",
    "plt.show()"
   ]
  },
  {
   "cell_type": "code",
   "execution_count": null,
   "metadata": {},
   "outputs": [],
   "source": []
  },
  {
   "cell_type": "code",
   "execution_count": 6,
   "metadata": {},
   "outputs": [
    {
     "data": {
      "text/plain": [
       "array([[  0, 160],\n",
       "       [  1,  29],\n",
       "       [  2, 235],\n",
       "       [  3, 100],\n",
       "       [  4,   1],\n",
       "       [  5,  11],\n",
       "       [  6,   2],\n",
       "       [  7,   2],\n",
       "       [  9,  28],\n",
       "       [ 10,   4],\n",
       "       [ 11,  30],\n",
       "       [ 12,   7],\n",
       "       [ 13,   2],\n",
       "       [ 15,   3],\n",
       "       [ 16,  36],\n",
       "       [ 18,  10],\n",
       "       [ 19, 340]])"
      ]
     },
     "execution_count": 6,
     "metadata": {},
     "output_type": "execute_result"
    }
   ],
   "source": [
    "boot_sample_out_selected = boot_sample_out[np.where(boot_sample_out[:,1]!=0)[0]]\n",
    "boot_sample_out_selected"
   ]
  },
  {
   "cell_type": "code",
   "execution_count": 7,
   "metadata": {},
   "outputs": [],
   "source": [
    "out_name = 'out_exp/grid_example'\n",
    "with open(out_name, 'wb') as f:\n",
    "    pickle.dump(boot_sample_out_selected, f)"
   ]
  },
  {
   "cell_type": "code",
   "execution_count": 8,
   "metadata": {},
   "outputs": [],
   "source": [
    "boot_sample_out_all = []\n",
    "for i in range(len(unique_routes)):\n",
    "    try:\n",
    "        #idx = path_idx_key[str(i)]\n",
    "        boot_sample_out_all.append(np.array([i, boot_sample_out_selected[boot_sample_out_selected[:,0]==i][0][1]]))\n",
    "    except:\n",
    "        boot_sample_out_all.append(np.array([i,0]))\n",
    "        \n",
    "boot_sample_out_all = np.vstack(boot_sample_out_all)\n",
    "\n",
    "out_name = 'out_exp/grid_example_normal'\n",
    "with open(out_name, 'wb') as f:\n",
    "    pickle.dump(boot_sample_out_all, f)"
   ]
  },
  {
   "cell_type": "code",
   "execution_count": 9,
   "metadata": {},
   "outputs": [
    {
     "data": {
      "text/plain": [
       "{'path_id': 19,\n",
       " 'path': [(0, 0), (0, 1), (0, 2), (0, 3), (1, 3), (2, 3), (3, 3)]}"
      ]
     },
     "execution_count": 9,
     "metadata": {},
     "output_type": "execute_result"
    }
   ],
   "source": [
    "best_route"
   ]
  },
  {
   "cell_type": "code",
   "execution_count": 10,
   "metadata": {},
   "outputs": [],
   "source": [
    "out_name = 'out_exp/grid_best_route'\n",
    "with open(out_name, 'wb') as f:\n",
    "    pickle.dump([best_route], f)"
   ]
  },
  {
   "cell_type": "code",
   "execution_count": 11,
   "metadata": {},
   "outputs": [
    {
     "data": {
      "text/plain": [
       "{'path_id': 2,\n",
       " 'path': [(0, 0), (1, 0), (2, 0), (2, 1), (2, 2), (3, 2), (3, 3)]}"
      ]
     },
     "execution_count": 11,
     "metadata": {},
     "output_type": "execute_result"
    }
   ],
   "source": [
    "max_route"
   ]
  },
  {
   "cell_type": "code",
   "execution_count": 12,
   "metadata": {},
   "outputs": [],
   "source": [
    "out_name = 'out_exp/grid_max_route'\n",
    "with open(out_name, 'wb') as f:\n",
    "    pickle.dump([max_route], f)"
   ]
  },
  {
   "cell_type": "code",
   "execution_count": 13,
   "metadata": {},
   "outputs": [],
   "source": [
    "available_route_list = []\n",
    "for idx in np.where(boot_sample_out[:,1]!=0)[0]:\n",
    "    available_route_list.append(unique_paths[idx])"
   ]
  },
  {
   "cell_type": "code",
   "execution_count": 14,
   "metadata": {},
   "outputs": [],
   "source": [
    "out_name = 'out_exp/available_route_list_normal'\n",
    "with open(out_name, 'wb') as f:\n",
    "    pickle.dump(available_route_list, f)"
   ]
  },
  {
   "cell_type": "code",
   "execution_count": null,
   "metadata": {},
   "outputs": [],
   "source": []
  },
  {
   "cell_type": "code",
   "execution_count": 15,
   "metadata": {},
   "outputs": [],
   "source": [
    "exp_grid_list = [X]"
   ]
  },
  {
   "cell_type": "code",
   "execution_count": 16,
   "metadata": {},
   "outputs": [],
   "source": [
    "out_name = 'out_exp/exp_grid_list'\n",
    "with open(out_name, 'wb') as f:\n",
    "    pickle.dump(exp_grid_list, f)"
   ]
  },
  {
   "cell_type": "code",
   "execution_count": null,
   "metadata": {},
   "outputs": [],
   "source": []
  }
 ],
 "metadata": {
  "kernelspec": {
   "display_name": "Python [conda env:test]",
   "language": "python",
   "name": "conda-env-test-py"
  },
  "language_info": {
   "codemirror_mode": {
    "name": "ipython",
    "version": 3
   },
   "file_extension": ".py",
   "mimetype": "text/x-python",
   "name": "python",
   "nbconvert_exporter": "python",
   "pygments_lexer": "ipython3",
   "version": "3.7.7"
  }
 },
 "nbformat": 4,
 "nbformat_minor": 4
}
