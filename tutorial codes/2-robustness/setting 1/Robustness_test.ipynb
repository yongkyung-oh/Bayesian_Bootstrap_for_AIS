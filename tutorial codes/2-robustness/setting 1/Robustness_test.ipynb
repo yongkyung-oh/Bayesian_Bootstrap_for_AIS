{
 "cells": [
  {
   "cell_type": "markdown",
   "metadata": {},
   "source": [
    "## Robustness Test"
   ]
  },
  {
   "cell_type": "markdown",
   "metadata": {},
   "source": [
    "### Normal setting"
   ]
  },
  {
   "cell_type": "code",
   "execution_count": 1,
   "metadata": {},
   "outputs": [],
   "source": [
    "import os\n",
    "import numpy as np\n",
    "import pandas as pd\n",
    "import matplotlib.pyplot as plt\n",
    "%matplotlib inline\n",
    "\n",
    "import math\n",
    "import time\n",
    "import pickle\n",
    "import random\n",
    "\n",
    "from itertools import permutations\n",
    "from functions import *\n",
    "\n",
    "SEED = 123\n",
    "random.seed(SEED)\n",
    "np.random.seed(SEED)"
   ]
  },
  {
   "cell_type": "code",
   "execution_count": 2,
   "metadata": {},
   "outputs": [
    {
     "data": {
      "text/plain": [
       "array([[10,  9,  3,  0],\n",
       "       [ 3, 10, 10,  7],\n",
       "       [ 0,  1,  1, 10]])"
      ]
     },
     "execution_count": 2,
     "metadata": {},
     "output_type": "execute_result"
    }
   ],
   "source": [
    "nc=4\n",
    "nr=3\n",
    "\n",
    "x_d = 1\n",
    "y_d = 1\n",
    "\n",
    "#X = np.random.randint(low=0, high=100, size=nc*nr).reshape(nr,nc)\n",
    "X = np.array([10,9,3,0,3,10,10,7,0,1,1,10]).reshape(nr,nc)\n",
    "X"
   ]
  },
  {
   "cell_type": "code",
   "execution_count": 3,
   "metadata": {},
   "outputs": [
    {
     "data": {
      "text/plain": [
       "array([[-1, -1,  1,  1,  1],\n",
       "       [-1,  1, -1,  1,  1],\n",
       "       [-1,  1,  1, -1,  1],\n",
       "       [-1,  1,  1,  1, -1],\n",
       "       [ 1, -1, -1,  1,  1],\n",
       "       [ 1, -1,  1, -1,  1],\n",
       "       [ 1, -1,  1,  1, -1],\n",
       "       [ 1,  1, -1, -1,  1],\n",
       "       [ 1,  1, -1,  1, -1],\n",
       "       [ 1,  1,  1, -1, -1]])"
      ]
     },
     "execution_count": 3,
     "metadata": {},
     "output_type": "execute_result"
    }
   ],
   "source": [
    "unique_routes = get_unique_routes(X)\n",
    "unique_routes"
   ]
  },
  {
   "cell_type": "code",
   "execution_count": 4,
   "metadata": {},
   "outputs": [
    {
     "data": {
      "text/plain": [
       "[{'path_id': 0, 'path': [(0, 0), (1, 0), (2, 0), (2, 1), (2, 2), (2, 3)]},\n",
       " {'path_id': 1, 'path': [(0, 0), (1, 0), (1, 1), (2, 1), (2, 2), (2, 3)]},\n",
       " {'path_id': 2, 'path': [(0, 0), (1, 0), (1, 1), (1, 2), (2, 2), (2, 3)]},\n",
       " {'path_id': 3, 'path': [(0, 0), (1, 0), (1, 1), (1, 2), (1, 3), (2, 3)]},\n",
       " {'path_id': 4, 'path': [(0, 0), (0, 1), (1, 1), (2, 1), (2, 2), (2, 3)]},\n",
       " {'path_id': 5, 'path': [(0, 0), (0, 1), (1, 1), (1, 2), (2, 2), (2, 3)]},\n",
       " {'path_id': 6, 'path': [(0, 0), (0, 1), (1, 1), (1, 2), (1, 3), (2, 3)]},\n",
       " {'path_id': 7, 'path': [(0, 0), (0, 1), (0, 2), (1, 2), (2, 2), (2, 3)]},\n",
       " {'path_id': 8, 'path': [(0, 0), (0, 1), (0, 2), (1, 2), (1, 3), (2, 3)]},\n",
       " {'path_id': 9, 'path': [(0, 0), (0, 1), (0, 2), (0, 3), (1, 3), (2, 3)]}]"
      ]
     },
     "execution_count": 4,
     "metadata": {},
     "output_type": "execute_result"
    }
   ],
   "source": [
    "unique_paths = get_path_from_routes(X, unique_routes)\n",
    "unique_paths"
   ]
  },
  {
   "cell_type": "code",
   "execution_count": 5,
   "metadata": {},
   "outputs": [
    {
     "name": "stdout",
     "output_type": "stream",
     "text": [
      "0 25\n",
      "1 35\n",
      "2 44\n",
      "3 50\n",
      "4 41\n",
      "5 50\n",
      "6 56\n",
      "7 43\n",
      "8 49\n",
      "9 39\n"
     ]
    }
   ],
   "source": [
    "for path_info in unique_paths:\n",
    "    print(path_info['path_id'],get_weight_from_path(X,path_info['path']))"
   ]
  },
  {
   "cell_type": "code",
   "execution_count": 6,
   "metadata": {},
   "outputs": [
    {
     "name": "stdout",
     "output_type": "stream",
     "text": [
      "time (s): 0.058027961291372776\n"
     ]
    },
    {
     "data": {
      "image/png": "[encoded data removed]",
      "text/plain": [
       "<Figure size 432x288 with 1 Axes>"
      ]
     },
     "metadata": {
      "needs_background": "light"
     },
     "output_type": "display_data"
    }
   ],
   "source": [
    "start_time = time.perf_counter()\n",
    "\n",
    "if x_d == -1:\n",
    "    X = np.fliplr(X)\n",
    "if y_d == -1:\n",
    "    X = np.flipud(X)\n",
    "\n",
    "unique_routes = get_unique_routes(X)\n",
    "unique_paths = get_path_from_routes(X, unique_routes)\n",
    "#path_info_list = get_path_info_from_matrix(X)\n",
    "boot_sample = bayesian_bootstrap(X, get_max_path_idx, 1000, unique_paths)\n",
    "\n",
    "boot_sample_out = []\n",
    "for idx in range(0,len(unique_routes)):\n",
    "    boot_sample_out.append([idx, sum(np.asarray(boot_sample)==idx)])\n",
    "boot_sample_out = np.vstack(boot_sample_out)\n",
    "#boot_sample_list.append(boot_sample_out)\n",
    "\n",
    "#best_route = path_info_list[1][np.argmax(boot_sample_out[:,1])]\n",
    "best_route = unique_paths[np.argmax(boot_sample_out[:,1])]\n",
    "#best_route_list.append(best_route)\n",
    "\n",
    "print('time (s): {}'.format(time.perf_counter()-start_time))\n",
    "\n",
    "plt.bar(boot_sample_out[:,0], boot_sample_out[:,1])\n",
    "plt.show()"
   ]
  },
  {
   "cell_type": "code",
   "execution_count": 7,
   "metadata": {},
   "outputs": [
    {
     "data": {
      "text/plain": [
       "array([[  1,   2],\n",
       "       [  2,  41],\n",
       "       [  3, 173],\n",
       "       [  4,  12],\n",
       "       [  5,  69],\n",
       "       [  6, 503],\n",
       "       [  7,  23],\n",
       "       [  8, 172],\n",
       "       [  9,   5]])"
      ]
     },
     "execution_count": 7,
     "metadata": {},
     "output_type": "execute_result"
    }
   ],
   "source": [
    "boot_sample_out_selected = boot_sample_out[np.where(boot_sample_out[:,1]!=0)[0]]\n",
    "boot_sample_out_selected"
   ]
  },
  {
   "cell_type": "code",
   "execution_count": 8,
   "metadata": {},
   "outputs": [],
   "source": [
    "out_name = 'out_exp/grid_example'\n",
    "with open(out_name, 'wb') as f:\n",
    "    pickle.dump(boot_sample_out_selected, f)"
   ]
  },
  {
   "cell_type": "code",
   "execution_count": 9,
   "metadata": {},
   "outputs": [],
   "source": [
    "boot_sample_out_all = []\n",
    "for i in range(10):\n",
    "    boot_sample_out_all.append(np.array([i, boot_sample_out[boot_sample_out[:,0]==i][0][1]]))\n",
    "boot_sample_out_all = np.vstack(boot_sample_out_all)\n",
    "\n",
    "out_name = 'out_exp/grid_example_normal'\n",
    "with open(out_name, 'wb') as f:\n",
    "    pickle.dump(boot_sample_out_all, f)"
   ]
  },
  {
   "cell_type": "code",
   "execution_count": 10,
   "metadata": {},
   "outputs": [
    {
     "data": {
      "text/plain": [
       "array([[  0,   0],\n",
       "       [  1,   2],\n",
       "       [  2,  41],\n",
       "       [  3, 173],\n",
       "       [  4,  12],\n",
       "       [  5,  69],\n",
       "       [  6, 503],\n",
       "       [  7,  23],\n",
       "       [  8, 172],\n",
       "       [  9,   5]])"
      ]
     },
     "execution_count": 10,
     "metadata": {},
     "output_type": "execute_result"
    }
   ],
   "source": [
    "boot_sample_out_all"
   ]
  },
  {
   "cell_type": "code",
   "execution_count": 11,
   "metadata": {},
   "outputs": [],
   "source": [
    "out_name = 'out_exp/grid_best_route'\n",
    "with open(out_name, 'wb') as f:\n",
    "    pickle.dump([best_route], f)"
   ]
  },
  {
   "cell_type": "code",
   "execution_count": 12,
   "metadata": {},
   "outputs": [],
   "source": [
    "available_route_list = []\n",
    "for idx in np.where(boot_sample_out[:,1]!=0)[0]:\n",
    "    available_route_list.append(unique_paths[idx])"
   ]
  },
  {
   "cell_type": "code",
   "execution_count": 13,
   "metadata": {},
   "outputs": [],
   "source": [
    "out_name = 'out_exp/available_route_list_normal'\n",
    "with open(out_name, 'wb') as f:\n",
    "    pickle.dump(available_route_list, f)"
   ]
  },
  {
   "cell_type": "code",
   "execution_count": null,
   "metadata": {},
   "outputs": [],
   "source": []
  },
  {
   "cell_type": "markdown",
   "metadata": {},
   "source": [
    "### Noisy setting"
   ]
  },
  {
   "cell_type": "code",
   "execution_count": 14,
   "metadata": {},
   "outputs": [
    {
     "data": {
      "text/plain": [
       "array([[10,  9,  3,  0],\n",
       "       [ 3, 10, 10,  7],\n",
       "       [ 0,  1,  1, 10]])"
      ]
     },
     "execution_count": 14,
     "metadata": {},
     "output_type": "execute_result"
    }
   ],
   "source": [
    "nc=4\n",
    "nr=3\n",
    "\n",
    "x_d =1\n",
    "y_d = 1\n",
    "\n",
    "#X = np.random.randint(low=0, high=100, size=nc*nr).reshape(nr,nc)\n",
    "X = np.array([10,9,3,0,3,10,10,7,0,1,1,10]).reshape(nr,nc)\n",
    "X"
   ]
  },
  {
   "cell_type": "code",
   "execution_count": 15,
   "metadata": {},
   "outputs": [],
   "source": [
    "X_noise = X.copy()"
   ]
  },
  {
   "cell_type": "code",
   "execution_count": 16,
   "metadata": {},
   "outputs": [],
   "source": [
    "noise = np.round(np.random.random(X_noise.flatten().shape[0]) * 4)\n",
    "noise = noise.reshape(X_noise.shape)"
   ]
  },
  {
   "cell_type": "code",
   "execution_count": 17,
   "metadata": {},
   "outputs": [
    {
     "data": {
      "text/plain": [
       "array([[12., 11.,  4.,  2.],\n",
       "       [ 5., 13., 13.,  9.],\n",
       "       [ 2.,  5.,  4., 13.]])"
      ]
     },
     "execution_count": 17,
     "metadata": {},
     "output_type": "execute_result"
    }
   ],
   "source": [
    "X_noise = X_noise + noise\n",
    "X_noise"
   ]
  },
  {
   "cell_type": "code",
   "execution_count": 18,
   "metadata": {},
   "outputs": [],
   "source": [
    "X= X_noise"
   ]
  },
  {
   "cell_type": "code",
   "execution_count": 19,
   "metadata": {},
   "outputs": [
    {
     "name": "stdout",
     "output_type": "stream",
     "text": [
      "time (s): 0.05646666092798114\n"
     ]
    },
    {
     "data": {
      "image/png": "[encoded data removed]",
      "text/plain": [
       "<Figure size 432x288 with 1 Axes>"
      ]
     },
     "metadata": {
      "needs_background": "light"
     },
     "output_type": "display_data"
    }
   ],
   "source": [
    "start_time = time.perf_counter()\n",
    "\n",
    "if x_d == -1:\n",
    "    X = np.fliplr(X)\n",
    "if y_d == -1:\n",
    "    X = np.flipud(X)\n",
    "\n",
    "unique_routes = get_unique_routes(X)\n",
    "unique_paths = get_path_from_routes(X, unique_routes)\n",
    "#path_info_list = get_path_info_from_matrix(X)\n",
    "boot_sample = bayesian_bootstrap(X, get_max_path_idx, 1000, unique_paths)\n",
    "\n",
    "boot_sample_out = []\n",
    "for idx in range(0,len(unique_routes)):\n",
    "    boot_sample_out.append([idx, sum(np.asarray(boot_sample)==idx)])\n",
    "boot_sample_out = np.vstack(boot_sample_out)\n",
    "#boot_sample_list.append(boot_sample_out)\n",
    "\n",
    "#best_route = path_info_list[1][np.argmax(boot_sample_out[:,1])]\n",
    "best_route = unique_paths[np.argmax(boot_sample_out[:,1])]\n",
    "#best_route_list.append(best_route)\n",
    "\n",
    "print('time (s): {}'.format(time.perf_counter()-start_time))\n",
    "\n",
    "plt.bar(boot_sample_out[:,0], boot_sample_out[:,1], width=1)\n",
    "plt.show()"
   ]
  },
  {
   "cell_type": "code",
   "execution_count": 20,
   "metadata": {},
   "outputs": [
    {
     "data": {
      "text/plain": [
       "array([[  0,  11],\n",
       "       [  1,  38],\n",
       "       [  2,  53],\n",
       "       [  3, 177],\n",
       "       [  4,  78],\n",
       "       [  5, 126],\n",
       "       [  6, 332],\n",
       "       [  7,  52],\n",
       "       [  8, 117],\n",
       "       [  9,  16]])"
      ]
     },
     "execution_count": 20,
     "metadata": {},
     "output_type": "execute_result"
    }
   ],
   "source": [
    "boot_sample_out_selected = boot_sample_out[np.where(boot_sample_out[:,1]!=0)[0]]\n",
    "boot_sample_out_selected"
   ]
  },
  {
   "cell_type": "code",
   "execution_count": 21,
   "metadata": {},
   "outputs": [],
   "source": [
    "boot_sample_out_all = []\n",
    "for i in range(10):\n",
    "    boot_sample_out_all.append(np.array([i, boot_sample_out[boot_sample_out[:,0]==i][0][1]]))\n",
    "boot_sample_out_all = np.vstack(boot_sample_out_all)\n",
    "\n",
    "out_name = 'out_exp/grid_example_noise'\n",
    "with open(out_name, 'wb') as f:\n",
    "    pickle.dump(boot_sample_out_all, f)"
   ]
  },
  {
   "cell_type": "code",
   "execution_count": 22,
   "metadata": {},
   "outputs": [],
   "source": [
    "available_route_list = []\n",
    "for idx in np.where(boot_sample_out[:,1]!=0)[0]:\n",
    "    available_route_list.append(unique_paths[idx])"
   ]
  },
  {
   "cell_type": "code",
   "execution_count": 23,
   "metadata": {},
   "outputs": [],
   "source": [
    "out_name = 'out_exp/available_route_list_noise'\n",
    "with open(out_name, 'wb') as f:\n",
    "    pickle.dump(available_route_list, f)"
   ]
  },
  {
   "cell_type": "code",
   "execution_count": null,
   "metadata": {},
   "outputs": [],
   "source": []
  },
  {
   "cell_type": "markdown",
   "metadata": {},
   "source": [
    "### Missing setting"
   ]
  },
  {
   "cell_type": "code",
   "execution_count": 24,
   "metadata": {},
   "outputs": [
    {
     "data": {
      "text/plain": [
       "array([[10,  9,  3,  0],\n",
       "       [ 3, 10, 10,  7],\n",
       "       [ 0,  1,  1, 10]])"
      ]
     },
     "execution_count": 24,
     "metadata": {},
     "output_type": "execute_result"
    }
   ],
   "source": [
    "nc=4\n",
    "nr=3\n",
    "\n",
    "x_d =1\n",
    "y_d = 1\n",
    "\n",
    "#X = np.random.randint(low=0, high=100, size=nc*nr).reshape(nr,nc)\n",
    "X = np.array([10,9,3,0,3,10,10,7,0,1,1,10]).reshape(nr,nc)\n",
    "X"
   ]
  },
  {
   "cell_type": "code",
   "execution_count": 25,
   "metadata": {},
   "outputs": [],
   "source": [
    "X_missing = X.copy()"
   ]
  },
  {
   "cell_type": "code",
   "execution_count": 26,
   "metadata": {},
   "outputs": [
    {
     "data": {
      "text/plain": [
       "array([[10,  9,  3,  0],\n",
       "       [ 3, 10, -1, -1],\n",
       "       [ 0, -1, -1, 10]])"
      ]
     },
     "execution_count": 26,
     "metadata": {},
     "output_type": "execute_result"
    }
   ],
   "source": [
    "X_missing[1,2] = -1\n",
    "X_missing[1,3] = -1\n",
    "X_missing[2,1] = -1\n",
    "X_missing[2,2] = -1\n",
    "X_missing"
   ]
  },
  {
   "cell_type": "code",
   "execution_count": 27,
   "metadata": {},
   "outputs": [],
   "source": [
    "X = X_missing.copy()"
   ]
  },
  {
   "cell_type": "code",
   "execution_count": 28,
   "metadata": {},
   "outputs": [
    {
     "data": {
      "text/plain": [
       "array([[10,  9,  3,  0],\n",
       "       [ 3, 10,  8,  8],\n",
       "       [ 0,  8,  8, 10]])"
      ]
     },
     "execution_count": 28,
     "metadata": {},
     "output_type": "execute_result"
    }
   ],
   "source": [
    "# Compute the median of the non-zero elements\n",
    "m = round(np.mean(X[X > 0]))\n",
    "# Assign the median to the zero elements \n",
    "X[X < 0] = m\n",
    "X"
   ]
  },
  {
   "cell_type": "code",
   "execution_count": 29,
   "metadata": {},
   "outputs": [
    {
     "name": "stdout",
     "output_type": "stream",
     "text": [
      "time (s): 0.05673441011458635\n"
     ]
    },
    {
     "data": {
      "image/png": "[encoded data removed]",
      "text/plain": [
       "<Figure size 432x288 with 1 Axes>"
      ]
     },
     "metadata": {
      "needs_background": "light"
     },
     "output_type": "display_data"
    }
   ],
   "source": [
    "start_time = time.perf_counter()\n",
    "\n",
    "if x_d == -1:\n",
    "    X = np.fliplr(X)\n",
    "if y_d == -1:\n",
    "    X = np.flipud(X)\n",
    "\n",
    "unique_routes = get_unique_routes(X)\n",
    "unique_paths = get_path_from_routes(X, unique_routes)\n",
    "#path_info_list = get_path_info_from_matrix(X)\n",
    "boot_sample = bayesian_bootstrap(X, get_max_path_idx, 1000, unique_paths)\n",
    "\n",
    "boot_sample_out = []\n",
    "for idx in range(0,len(unique_routes)):\n",
    "    boot_sample_out.append([idx, sum(np.asarray(boot_sample)==idx)])\n",
    "boot_sample_out = np.vstack(boot_sample_out)\n",
    "#boot_sample_list.append(boot_sample_out)\n",
    "\n",
    "#best_route = path_info_list[1][np.argmax(boot_sample_out[:,1])]\n",
    "best_route = unique_paths[np.argmax(boot_sample_out[:,1])]\n",
    "#best_route_list.append(best_route)\n",
    "\n",
    "print('time (s): {}'.format(time.perf_counter()-start_time))\n",
    "\n",
    "plt.bar(boot_sample_out[:,0], boot_sample_out[:,1], width=1)\n",
    "plt.show()"
   ]
  },
  {
   "cell_type": "code",
   "execution_count": 30,
   "metadata": {},
   "outputs": [
    {
     "data": {
      "text/plain": [
       "array([[  0,   3],\n",
       "       [  1,  93],\n",
       "       [  2,  59],\n",
       "       [  3,  72],\n",
       "       [  4, 247],\n",
       "       [  5, 157],\n",
       "       [  6, 225],\n",
       "       [  7,  60],\n",
       "       [  8,  83],\n",
       "       [  9,   1]])"
      ]
     },
     "execution_count": 30,
     "metadata": {},
     "output_type": "execute_result"
    }
   ],
   "source": [
    "boot_sample_out_selected = boot_sample_out[np.where(boot_sample_out[:,1]!=0)[0]]\n",
    "boot_sample_out_selected"
   ]
  },
  {
   "cell_type": "code",
   "execution_count": 31,
   "metadata": {},
   "outputs": [],
   "source": [
    "boot_sample_out_all = []\n",
    "for i in range(10):\n",
    "    boot_sample_out_all.append(np.array([i, boot_sample_out[boot_sample_out[:,0]==i][0][1]]))\n",
    "boot_sample_out_all = np.vstack(boot_sample_out_all)\n",
    "\n",
    "out_name = 'out_exp/grid_example_missing'\n",
    "with open(out_name, 'wb') as f:\n",
    "    pickle.dump(boot_sample_out_all, f)"
   ]
  },
  {
   "cell_type": "code",
   "execution_count": 32,
   "metadata": {},
   "outputs": [],
   "source": [
    "available_route_list = []\n",
    "for idx in np.where(boot_sample_out[:,1]!=0)[0]:\n",
    "    available_route_list.append(unique_paths[idx])"
   ]
  },
  {
   "cell_type": "code",
   "execution_count": 33,
   "metadata": {},
   "outputs": [],
   "source": [
    "out_name = 'out_exp/available_route_list_missing'\n",
    "with open(out_name, 'wb') as f:\n",
    "    pickle.dump(available_route_list, f)"
   ]
  },
  {
   "cell_type": "code",
   "execution_count": null,
   "metadata": {},
   "outputs": [],
   "source": []
  },
  {
   "cell_type": "markdown",
   "metadata": {},
   "source": [
    "### Save"
   ]
  },
  {
   "cell_type": "code",
   "execution_count": 34,
   "metadata": {},
   "outputs": [
    {
     "data": {
      "text/plain": [
       "array([[10,  9,  3,  0],\n",
       "       [ 3, 10, 10,  7],\n",
       "       [ 0,  1,  1, 10]])"
      ]
     },
     "execution_count": 34,
     "metadata": {},
     "output_type": "execute_result"
    }
   ],
   "source": [
    "nc=4\n",
    "nr=3\n",
    "\n",
    "x_d =1\n",
    "y_d = 1\n",
    "\n",
    "#X = np.random.randint(low=0, high=100, size=nc*nr).reshape(nr,nc)\n",
    "X = np.array([10,9,3,0,3,10,10,7,0,1,1,10]).reshape(nr,nc)\n",
    "X"
   ]
  },
  {
   "cell_type": "code",
   "execution_count": 35,
   "metadata": {},
   "outputs": [],
   "source": [
    "exp_grid_list = [X, X_noise, X_missing]"
   ]
  },
  {
   "cell_type": "code",
   "execution_count": 36,
   "metadata": {},
   "outputs": [],
   "source": [
    "out_name = 'out_exp/exp_grid_list'\n",
    "with open(out_name, 'wb') as f:\n",
    "    pickle.dump(exp_grid_list, f)"
   ]
  },
  {
   "cell_type": "code",
   "execution_count": null,
   "metadata": {},
   "outputs": [],
   "source": []
  },
  {
   "cell_type": "code",
   "execution_count": null,
   "metadata": {},
   "outputs": [],
   "source": []
  },
  {
   "cell_type": "code",
   "execution_count": null,
   "metadata": {},
   "outputs": [],
   "source": []
  }
 ],
 "metadata": {
  "kernelspec": {
   "display_name": "test",
   "language": "python",
   "name": "test"
  },
  "language_info": {
   "codemirror_mode": {
    "name": "ipython",
    "version": 3
   },
   "file_extension": ".py",
   "mimetype": "text/x-python",
   "name": "python",
   "nbconvert_exporter": "python",
   "pygments_lexer": "ipython3",
   "version": "3.7.7"
  }
 },
 "nbformat": 4,
 "nbformat_minor": 4
}
