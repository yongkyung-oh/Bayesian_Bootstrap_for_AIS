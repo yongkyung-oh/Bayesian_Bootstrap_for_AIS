{
 "cells": [
  {
   "cell_type": "markdown",
   "metadata": {},
   "source": [
    "## Robustness Test"
   ]
  },
  {
   "cell_type": "markdown",
   "metadata": {},
   "source": [
    "### Normal setting"
   ]
  },
  {
   "cell_type": "code",
   "execution_count": 1,
   "metadata": {},
   "outputs": [],
   "source": [
    "import os\n",
    "import numpy as np\n",
    "import pandas as pd\n",
    "import matplotlib.pyplot as plt\n",
    "%matplotlib inline\n",
    "\n",
    "import math\n",
    "import time\n",
    "import pickle\n",
    "import random\n",
    "\n",
    "from itertools import permutations\n",
    "from functions import *\n",
    "\n",
    "SEED = 123\n",
    "random.seed(SEED)\n",
    "np.random.seed(SEED)"
   ]
  },
  {
   "cell_type": "code",
   "execution_count": 2,
   "metadata": {},
   "outputs": [],
   "source": [
    "from plotnine import ggplot, aes, labs, scales, theme, element_rect, element_text, geom_line, geom_point, geom_bar, geom_errorbar, geom_text, scale_x_continuous, scale_y_continuous"
   ]
  },
  {
   "cell_type": "code",
   "execution_count": 3,
   "metadata": {},
   "outputs": [
    {
     "data": {
      "text/plain": [
       "array([[10,  9,  3,  0],\n",
       "       [ 3, 10, 10,  7],\n",
       "       [ 0,  1,  1, 10]])"
      ]
     },
     "execution_count": 3,
     "metadata": {},
     "output_type": "execute_result"
    }
   ],
   "source": [
    "nc=4\n",
    "nr=3\n",
    "\n",
    "x_d = 1\n",
    "y_d = 1\n",
    "\n",
    "#X = np.random.randint(low=0, high=100, size=nc*nr).reshape(nr,nc)\n",
    "X = np.array([10,9,3,0,3,10,10,7,0,1,1,10]).reshape(nr,nc)\n",
    "X"
   ]
  },
  {
   "cell_type": "code",
   "execution_count": 4,
   "metadata": {},
   "outputs": [
    {
     "data": {
      "text/plain": [
       "array([[-1, -1,  1,  1,  1],\n",
       "       [-1,  1, -1,  1,  1],\n",
       "       [-1,  1,  1, -1,  1],\n",
       "       [-1,  1,  1,  1, -1],\n",
       "       [ 1, -1, -1,  1,  1],\n",
       "       [ 1, -1,  1, -1,  1],\n",
       "       [ 1, -1,  1,  1, -1],\n",
       "       [ 1,  1, -1, -1,  1],\n",
       "       [ 1,  1, -1,  1, -1],\n",
       "       [ 1,  1,  1, -1, -1]])"
      ]
     },
     "execution_count": 4,
     "metadata": {},
     "output_type": "execute_result"
    }
   ],
   "source": [
    "unique_routes = get_unique_routes(X)\n",
    "unique_routes"
   ]
  },
  {
   "cell_type": "code",
   "execution_count": 5,
   "metadata": {},
   "outputs": [
    {
     "data": {
      "text/plain": [
       "[{'path_id': 0, 'path': [(0, 0), (1, 0), (2, 0), (2, 1), (2, 2), (2, 3)]},\n",
       " {'path_id': 1, 'path': [(0, 0), (1, 0), (1, 1), (2, 1), (2, 2), (2, 3)]},\n",
       " {'path_id': 2, 'path': [(0, 0), (1, 0), (1, 1), (1, 2), (2, 2), (2, 3)]},\n",
       " {'path_id': 3, 'path': [(0, 0), (1, 0), (1, 1), (1, 2), (1, 3), (2, 3)]},\n",
       " {'path_id': 4, 'path': [(0, 0), (0, 1), (1, 1), (2, 1), (2, 2), (2, 3)]},\n",
       " {'path_id': 5, 'path': [(0, 0), (0, 1), (1, 1), (1, 2), (2, 2), (2, 3)]},\n",
       " {'path_id': 6, 'path': [(0, 0), (0, 1), (1, 1), (1, 2), (1, 3), (2, 3)]},\n",
       " {'path_id': 7, 'path': [(0, 0), (0, 1), (0, 2), (1, 2), (2, 2), (2, 3)]},\n",
       " {'path_id': 8, 'path': [(0, 0), (0, 1), (0, 2), (1, 2), (1, 3), (2, 3)]},\n",
       " {'path_id': 9, 'path': [(0, 0), (0, 1), (0, 2), (0, 3), (1, 3), (2, 3)]}]"
      ]
     },
     "execution_count": 5,
     "metadata": {},
     "output_type": "execute_result"
    }
   ],
   "source": [
    "unique_paths = get_path_from_routes(X, unique_routes)\n",
    "unique_paths"
   ]
  },
  {
   "cell_type": "code",
   "execution_count": 6,
   "metadata": {},
   "outputs": [
    {
     "name": "stdout",
     "output_type": "stream",
     "text": [
      "0 25\n",
      "1 35\n",
      "2 44\n",
      "3 50\n",
      "4 41\n",
      "5 50\n",
      "6 56\n",
      "7 43\n",
      "8 49\n",
      "9 39\n"
     ]
    }
   ],
   "source": [
    "for path_info in unique_paths:\n",
    "    print(path_info['path_id'],get_weight_from_path(X,path_info['path']))"
   ]
  },
  {
   "cell_type": "code",
   "execution_count": 7,
   "metadata": {},
   "outputs": [],
   "source": [
    "boot_sample_list = []\n",
    "best_route_list = []\n",
    "\n",
    "for _ in range(100):\n",
    "    unique_routes = get_unique_routes(X)\n",
    "    unique_paths = get_path_from_routes(X, unique_routes)\n",
    "    #path_info_list = get_path_info_from_matrix(X)\n",
    "    boot_sample = bayesian_bootstrap(X, get_max_path_idx, 1000, unique_paths)\n",
    "\n",
    "    boot_sample_out = []\n",
    "    for idx in range(0,len(unique_routes)):\n",
    "        boot_sample_out.append([idx, sum(np.asarray(boot_sample)==idx)])\n",
    "    boot_sample_out = np.vstack(boot_sample_out)\n",
    "    boot_sample_list.append(boot_sample_out)\n",
    "\n",
    "    #best_route = path_info_list[1][np.argmax(boot_sample_out[:,1])]\n",
    "    best_route = unique_paths[np.argmax(boot_sample_out[:,1])]\n",
    "    best_route_list.append(best_route)"
   ]
  },
  {
   "cell_type": "code",
   "execution_count": 8,
   "metadata": {},
   "outputs": [],
   "source": [
    "boot_sample_df = pd.DataFrame(np.array(boot_sample_list)[:,:,1])/1000"
   ]
  },
  {
   "cell_type": "code",
   "execution_count": 9,
   "metadata": {},
   "outputs": [
    {
     "data": {
      "image/png": "[encoded data removed]",
      "text/plain": [
       "<Figure size 432x288 with 1 Axes>"
      ]
     },
     "metadata": {
      "needs_background": "light"
     },
     "output_type": "display_data"
    }
   ],
   "source": [
    "plt.bar(range(10), boot_sample_df.mean(), yerr=boot_sample_df.std())\n",
    "plt.ylim(0,1)\n",
    "plt.show()"
   ]
  },
  {
   "cell_type": "code",
   "execution_count": null,
   "metadata": {},
   "outputs": [],
   "source": []
  },
  {
   "cell_type": "code",
   "execution_count": null,
   "metadata": {},
   "outputs": [],
   "source": []
  },
  {
   "cell_type": "markdown",
   "metadata": {},
   "source": [
    "### Noisy setting"
   ]
  },
  {
   "cell_type": "code",
   "execution_count": 10,
   "metadata": {},
   "outputs": [
    {
     "data": {
      "text/plain": [
       "array([[10,  9,  3,  0],\n",
       "       [ 3, 10, 10,  7],\n",
       "       [ 0,  1,  1, 10]])"
      ]
     },
     "execution_count": 10,
     "metadata": {},
     "output_type": "execute_result"
    }
   ],
   "source": [
    "nc=4\n",
    "nr=3\n",
    "\n",
    "x_d = 1\n",
    "y_d = 1\n",
    "\n",
    "#X = np.random.randint(low=0, high=100, size=nc*nr).reshape(nr,nc)\n",
    "X = np.array([10,9,3,0,3,10,10,7,0,1,1,10]).reshape(nr,nc)\n",
    "X"
   ]
  },
  {
   "cell_type": "code",
   "execution_count": 11,
   "metadata": {},
   "outputs": [
    {
     "name": "stdout",
     "output_type": "stream",
     "text": [
      "0.4939499999999999 0.016027359814587774\n"
     ]
    },
    {
     "data": {
      "image/png": "[encoded data removed]",
      "text/plain": [
       "<Figure size 432x288 with 1 Axes>"
      ]
     },
     "metadata": {
      "needs_background": "light"
     },
     "output_type": "display_data"
    },
    {
     "name": "stdout",
     "output_type": "stream",
     "text": [
      "0.4946399999999999 0.017279941077340624\n"
     ]
    },
    {
     "data": {
      "image/png": "[encoded data removed]",
      "text/plain": [
       "<Figure size 432x288 with 1 Axes>"
      ]
     },
     "metadata": {
      "needs_background": "light"
     },
     "output_type": "display_data"
    },
    {
     "name": "stdout",
     "output_type": "stream",
     "text": [
      "0.44068999999999997 0.03718033992270211\n"
     ]
    },
    {
     "data": {
      "image/png": "[encoded data removed]",
      "text/plain": [
       "<Figure size 432x288 with 1 Axes>"
      ]
     },
     "metadata": {
      "needs_background": "light"
     },
     "output_type": "display_data"
    },
    {
     "name": "stdout",
     "output_type": "stream",
     "text": [
      "0.40568 0.052343442374341034\n"
     ]
    },
    {
     "data": {
      "image/png": "[encoded data removed]",
      "text/plain": [
       "<Figure size 432x288 with 1 Axes>"
      ]
     },
     "metadata": {
      "needs_background": "light"
     },
     "output_type": "display_data"
    },
    {
     "name": "stdout",
     "output_type": "stream",
     "text": [
      "0.38640000000000013 0.0651078359572049\n"
     ]
    },
    {
     "data": {
      "image/png": "[encoded data removed]",
      "text/plain": [
       "<Figure size 432x288 with 1 Axes>"
      ]
     },
     "metadata": {
      "needs_background": "light"
     },
     "output_type": "display_data"
    }
   ],
   "source": [
    "noisy_results = []\n",
    "\n",
    "for noise in [0, 1, 2, 3, 4]:\n",
    "    boot_sample_list = []\n",
    "    best_route_list = []\n",
    "\n",
    "    for _ in range(100):\n",
    "        X = np.array([10,9,3,0,3,10,10,7,0,1,1,10]).reshape(nr,nc)\n",
    "        if noise != 0:\n",
    "            X_noise = np.random.randint(low=0, high=noise, size=nc*nr).reshape(nr,nc)\n",
    "            X = X + X_noise\n",
    "            X = X.clip(0)\n",
    "\n",
    "        unique_routes = get_unique_routes(X)\n",
    "        unique_paths = get_path_from_routes(X, unique_routes)\n",
    "        #path_info_list = get_path_info_from_matrix(X)\n",
    "        boot_sample = bayesian_bootstrap(X, get_max_path_idx, 1000, unique_paths)\n",
    "\n",
    "        boot_sample_out = []\n",
    "        for idx in range(0,len(unique_routes)):\n",
    "            boot_sample_out.append([idx, sum(np.asarray(boot_sample)==idx)])\n",
    "        boot_sample_out = np.vstack(boot_sample_out)\n",
    "        boot_sample_list.append(boot_sample_out)\n",
    "\n",
    "        #best_route = path_info_list[1][np.argmax(boot_sample_out[:,1])]\n",
    "        best_route = unique_paths[np.argmax(boot_sample_out[:,1])]\n",
    "        best_route_list.append(best_route)\n",
    "        \n",
    "    boot_sample_df = pd.DataFrame(np.array(boot_sample_list)[:,:,1])/1000\n",
    "    noisy_results.append(boot_sample_df)\n",
    "    \n",
    "    print(boot_sample_df.mean()[6], boot_sample_df.std()[6])\n",
    "    \n",
    "    plt.bar(range(10), boot_sample_df.mean(), yerr=boot_sample_df.std())\n",
    "    plt.ylim(0,1)\n",
    "    plt.title(noise)\n",
    "    plt.show()"
   ]
  },
  {
   "cell_type": "code",
   "execution_count": null,
   "metadata": {},
   "outputs": [],
   "source": []
  },
  {
   "cell_type": "code",
   "execution_count": 12,
   "metadata": {},
   "outputs": [],
   "source": [
    "noisy_df = []\n",
    "for i in range(5):\n",
    "    df = noisy_results[i]\n",
    "    noisy_df.append([df[6].mean(), df[6].std()])"
   ]
  },
  {
   "cell_type": "code",
   "execution_count": 13,
   "metadata": {},
   "outputs": [],
   "source": [
    "noisy_df = pd.DataFrame(noisy_df, columns=['mean', 'std'])\n",
    "noisy_df['noise'] = ['0', '1', '2', '3', '4']\n",
    "noisy_df['noise'] = noisy_df['noise'].astype(str)"
   ]
  },
  {
   "cell_type": "code",
   "execution_count": 14,
   "metadata": {},
   "outputs": [
    {
     "data": {
      "text/html": [
       "<div>\n",
       "<style scoped>\n",
       "    .dataframe tbody tr th:only-of-type {\n",
       "        vertical-align: middle;\n",
       "    }\n",
       "\n",
       "    .dataframe tbody tr th {\n",
       "        vertical-align: top;\n",
       "    }\n",
       "\n",
       "    .dataframe thead th {\n",
       "        text-align: right;\n",
       "    }\n",
       "</style>\n",
       "<table border=\"1\" class=\"dataframe\">\n",
       "  <thead>\n",
       "    <tr style=\"text-align: right;\">\n",
       "      <th></th>\n",
       "      <th>mean</th>\n",
       "      <th>std</th>\n",
       "      <th>noise</th>\n",
       "      <th>ymin</th>\n",
       "      <th>ymax</th>\n",
       "    </tr>\n",
       "  </thead>\n",
       "  <tbody>\n",
       "    <tr>\n",
       "      <th>0</th>\n",
       "      <td>0.49395</td>\n",
       "      <td>0.016027</td>\n",
       "      <td>0</td>\n",
       "      <td>0.477923</td>\n",
       "      <td>0.509977</td>\n",
       "    </tr>\n",
       "    <tr>\n",
       "      <th>1</th>\n",
       "      <td>0.49464</td>\n",
       "      <td>0.017280</td>\n",
       "      <td>1</td>\n",
       "      <td>0.477360</td>\n",
       "      <td>0.511920</td>\n",
       "    </tr>\n",
       "    <tr>\n",
       "      <th>2</th>\n",
       "      <td>0.44069</td>\n",
       "      <td>0.037180</td>\n",
       "      <td>2</td>\n",
       "      <td>0.403510</td>\n",
       "      <td>0.477870</td>\n",
       "    </tr>\n",
       "    <tr>\n",
       "      <th>3</th>\n",
       "      <td>0.40568</td>\n",
       "      <td>0.052343</td>\n",
       "      <td>3</td>\n",
       "      <td>0.353337</td>\n",
       "      <td>0.458023</td>\n",
       "    </tr>\n",
       "    <tr>\n",
       "      <th>4</th>\n",
       "      <td>0.38640</td>\n",
       "      <td>0.065108</td>\n",
       "      <td>4</td>\n",
       "      <td>0.321292</td>\n",
       "      <td>0.451508</td>\n",
       "    </tr>\n",
       "  </tbody>\n",
       "</table>\n",
       "</div>"
      ],
      "text/plain": [
       "      mean       std noise      ymin      ymax\n",
       "0  0.49395  0.016027     0  0.477923  0.509977\n",
       "1  0.49464  0.017280     1  0.477360  0.511920\n",
       "2  0.44069  0.037180     2  0.403510  0.477870\n",
       "3  0.40568  0.052343     3  0.353337  0.458023\n",
       "4  0.38640  0.065108     4  0.321292  0.451508"
      ]
     },
     "execution_count": 14,
     "metadata": {},
     "output_type": "execute_result"
    }
   ],
   "source": [
    "noisy_df['ymin'] = (noisy_df['mean']-noisy_df['std']).clip(lower=0)\n",
    "noisy_df['ymax'] = (noisy_df['mean']+noisy_df['std']).clip(lower=0)\n",
    "noisy_df"
   ]
  },
  {
   "cell_type": "code",
   "execution_count": 15,
   "metadata": {},
   "outputs": [
    {
     "data": {
      "image/png": "[encoded data removed]",
      "text/plain": [
       "<Figure size 1200x1200 with 1 Axes>"
      ]
     },
     "metadata": {},
     "output_type": "display_data"
    },
    {
     "data": {
      "text/plain": [
       "<ggplot: (8742422171777)>"
      ]
     },
     "execution_count": 15,
     "metadata": {},
     "output_type": "execute_result"
    }
   ],
   "source": [
    "(\n",
    "    ggplot(data=noisy_df.round(2))\n",
    "    + aes(x='noise', y='mean') \n",
    "    + labs(\n",
    "        x = 'Noise level',\n",
    "        y = 'Percentage') +\n",
    "    geom_bar(stat='identity',position='dodge') + \n",
    "    geom_errorbar(data=noisy_df) + aes(ymin='ymin', ymax='ymax') + \n",
    "    scale_y_continuous(limits = (0,0.65), breaks=np.linspace(0,0.7,8)) + \n",
    "    theme(figure_size=(12,12), axis_text_x=element_text(size=20), axis_text_y=element_text(size=20), \\\n",
    "          axis_title_x=element_text(size=26, weight='normal'), axis_title_y=element_text(size=26, weight='normal'))\n",
    ")"
   ]
  },
  {
   "cell_type": "code",
   "execution_count": null,
   "metadata": {},
   "outputs": [],
   "source": []
  },
  {
   "cell_type": "code",
   "execution_count": null,
   "metadata": {},
   "outputs": [],
   "source": []
  },
  {
   "cell_type": "code",
   "execution_count": null,
   "metadata": {},
   "outputs": [],
   "source": []
  },
  {
   "cell_type": "code",
   "execution_count": null,
   "metadata": {},
   "outputs": [],
   "source": []
  },
  {
   "cell_type": "code",
   "execution_count": null,
   "metadata": {},
   "outputs": [],
   "source": []
  },
  {
   "cell_type": "markdown",
   "metadata": {},
   "source": [
    "### Missing setting"
   ]
  },
  {
   "cell_type": "code",
   "execution_count": 16,
   "metadata": {},
   "outputs": [
    {
     "data": {
      "text/plain": [
       "array([[10,  9,  3,  0],\n",
       "       [ 3, 10, 10,  7],\n",
       "       [ 0,  1,  1, 10]])"
      ]
     },
     "execution_count": 16,
     "metadata": {},
     "output_type": "execute_result"
    }
   ],
   "source": [
    "nc=4\n",
    "nr=3\n",
    "\n",
    "x_d = 1\n",
    "y_d = 1\n",
    "\n",
    "#X = np.random.randint(low=0, high=100, size=nc*nr).reshape(nr,nc)\n",
    "X = np.array([10,9,3,0,3,10,10,7,0,1,1,10]).reshape(nr,nc)\n",
    "X"
   ]
  },
  {
   "cell_type": "code",
   "execution_count": 17,
   "metadata": {},
   "outputs": [
    {
     "name": "stdout",
     "output_type": "stream",
     "text": [
      "0.49704000000000015 0.014109900528681737\n"
     ]
    },
    {
     "data": {
      "image/png": "[encoded data removed]",
      "text/plain": [
       "<Figure size 432x288 with 1 Axes>"
      ]
     },
     "metadata": {
      "needs_background": "light"
     },
     "output_type": "display_data"
    },
    {
     "name": "stdout",
     "output_type": "stream",
     "text": [
      "0.4449599999999998 0.0934446219626222\n"
     ]
    },
    {
     "data": {
      "image/png": "[encoded data removed]",
      "text/plain": [
       "<Figure size 432x288 with 1 Axes>"
      ]
     },
     "metadata": {
      "needs_background": "light"
     },
     "output_type": "display_data"
    },
    {
     "name": "stdout",
     "output_type": "stream",
     "text": [
      "0.4351900000000001 0.09114686727552085\n"
     ]
    },
    {
     "data": {
      "image/png": "[encoded data removed]",
      "text/plain": [
       "<Figure size 432x288 with 1 Axes>"
      ]
     },
     "metadata": {
      "needs_background": "light"
     },
     "output_type": "display_data"
    },
    {
     "name": "stdout",
     "output_type": "stream",
     "text": [
      "0.40714000000000006 0.0970134865142809\n"
     ]
    },
    {
     "data": {
      "image/png": "[encoded data removed]",
      "text/plain": [
       "<Figure size 432x288 with 1 Axes>"
      ]
     },
     "metadata": {
      "needs_background": "light"
     },
     "output_type": "display_data"
    },
    {
     "name": "stdout",
     "output_type": "stream",
     "text": [
      "0.3698599999999999 0.11434371540458728\n"
     ]
    },
    {
     "data": {
      "image/png": "[encoded data removed]",
      "text/plain": [
       "<Figure size 432x288 with 1 Axes>"
      ]
     },
     "metadata": {
      "needs_background": "light"
     },
     "output_type": "display_data"
    }
   ],
   "source": [
    "missing_results = []\n",
    "\n",
    "for missing in [0, 0.05, 0.10, 0.15, 0.20]:\n",
    "    boot_sample_list = []\n",
    "    best_route_list = []\n",
    "\n",
    "    for _ in range(100):\n",
    "        X = np.array([10,9,3,0,3,10,10,7,0,1,1,10]).reshape(nr,nc)\n",
    "        if missing != 0:\n",
    "            X_missing = np.random.choice([-1, 1], 12, p=[missing, 1-missing]).reshape(nr,nc)\n",
    "            X = X * X_missing\n",
    "            \n",
    "            # Compute the median of the non-zero elements\n",
    "            m = round(np.median(X[X > 0]))\n",
    "            # Assign the median to the zero elements \n",
    "            X[X < 0] = m\n",
    "\n",
    "        unique_routes = get_unique_routes(X)\n",
    "        unique_paths = get_path_from_routes(X, unique_routes)\n",
    "        #path_info_list = get_path_info_from_matrix(X)\n",
    "        boot_sample = bayesian_bootstrap(X, get_max_path_idx, 1000, unique_paths)\n",
    "\n",
    "        boot_sample_out = []\n",
    "        for idx in range(0,len(unique_routes)):\n",
    "            boot_sample_out.append([idx, sum(np.asarray(boot_sample)==idx)])\n",
    "        boot_sample_out = np.vstack(boot_sample_out)\n",
    "        boot_sample_list.append(boot_sample_out)\n",
    "\n",
    "        #best_route = path_info_list[1][np.argmax(boot_sample_out[:,1])]\n",
    "        best_route = unique_paths[np.argmax(boot_sample_out[:,1])]\n",
    "        best_route_list.append(best_route)\n",
    "        \n",
    "    boot_sample_df = pd.DataFrame(np.array(boot_sample_list)[:,:,1])/1000\n",
    "    missing_results.append(boot_sample_df)\n",
    "    \n",
    "    print(boot_sample_df.mean()[6], boot_sample_df.std()[6])\n",
    "    \n",
    "    plt.bar(range(10), boot_sample_df.mean(), yerr=boot_sample_df.std())\n",
    "    plt.ylim(0,1)\n",
    "    plt.title(missing)\n",
    "    plt.show()"
   ]
  },
  {
   "cell_type": "code",
   "execution_count": 18,
   "metadata": {},
   "outputs": [],
   "source": [
    "missing_df = []\n",
    "for i in range(5):\n",
    "    df = missing_results[i]\n",
    "    missing_df.append([df[6].mean(), df[6].std()])"
   ]
  },
  {
   "cell_type": "code",
   "execution_count": 19,
   "metadata": {},
   "outputs": [],
   "source": [
    "missing_df = pd.DataFrame(missing_df, columns=['mean', 'std'])\n",
    "missing_df['missing'] = ['0', '0.05', '0.10', '0.15', '0.20']\n",
    "missing_df['missing'] = missing_df['missing'].astype(str)"
   ]
  },
  {
   "cell_type": "code",
   "execution_count": 20,
   "metadata": {},
   "outputs": [
    {
     "data": {
      "text/html": [
       "<div>\n",
       "<style scoped>\n",
       "    .dataframe tbody tr th:only-of-type {\n",
       "        vertical-align: middle;\n",
       "    }\n",
       "\n",
       "    .dataframe tbody tr th {\n",
       "        vertical-align: top;\n",
       "    }\n",
       "\n",
       "    .dataframe thead th {\n",
       "        text-align: right;\n",
       "    }\n",
       "</style>\n",
       "<table border=\"1\" class=\"dataframe\">\n",
       "  <thead>\n",
       "    <tr style=\"text-align: right;\">\n",
       "      <th></th>\n",
       "      <th>mean</th>\n",
       "      <th>std</th>\n",
       "      <th>missing</th>\n",
       "      <th>ymin</th>\n",
       "      <th>ymax</th>\n",
       "    </tr>\n",
       "  </thead>\n",
       "  <tbody>\n",
       "    <tr>\n",
       "      <th>0</th>\n",
       "      <td>0.49704</td>\n",
       "      <td>0.014110</td>\n",
       "      <td>0</td>\n",
       "      <td>0.482930</td>\n",
       "      <td>0.511150</td>\n",
       "    </tr>\n",
       "    <tr>\n",
       "      <th>1</th>\n",
       "      <td>0.44496</td>\n",
       "      <td>0.093445</td>\n",
       "      <td>0.05</td>\n",
       "      <td>0.351515</td>\n",
       "      <td>0.538405</td>\n",
       "    </tr>\n",
       "    <tr>\n",
       "      <th>2</th>\n",
       "      <td>0.43519</td>\n",
       "      <td>0.091147</td>\n",
       "      <td>0.10</td>\n",
       "      <td>0.344043</td>\n",
       "      <td>0.526337</td>\n",
       "    </tr>\n",
       "    <tr>\n",
       "      <th>3</th>\n",
       "      <td>0.40714</td>\n",
       "      <td>0.097013</td>\n",
       "      <td>0.15</td>\n",
       "      <td>0.310127</td>\n",
       "      <td>0.504153</td>\n",
       "    </tr>\n",
       "    <tr>\n",
       "      <th>4</th>\n",
       "      <td>0.36986</td>\n",
       "      <td>0.114344</td>\n",
       "      <td>0.20</td>\n",
       "      <td>0.255516</td>\n",
       "      <td>0.484204</td>\n",
       "    </tr>\n",
       "  </tbody>\n",
       "</table>\n",
       "</div>"
      ],
      "text/plain": [
       "      mean       std missing      ymin      ymax\n",
       "0  0.49704  0.014110       0  0.482930  0.511150\n",
       "1  0.44496  0.093445    0.05  0.351515  0.538405\n",
       "2  0.43519  0.091147    0.10  0.344043  0.526337\n",
       "3  0.40714  0.097013    0.15  0.310127  0.504153\n",
       "4  0.36986  0.114344    0.20  0.255516  0.484204"
      ]
     },
     "execution_count": 20,
     "metadata": {},
     "output_type": "execute_result"
    }
   ],
   "source": [
    "missing_df['ymin'] = (missing_df['mean']-missing_df['std']).clip(lower=0)\n",
    "missing_df['ymax'] = (missing_df['mean']+missing_df['std']).clip(lower=0)\n",
    "missing_df"
   ]
  },
  {
   "cell_type": "code",
   "execution_count": 21,
   "metadata": {},
   "outputs": [
    {
     "data": {
      "image/png": "[encoded data removed]",
      "text/plain": [
       "<Figure size 1200x1200 with 1 Axes>"
      ]
     },
     "metadata": {},
     "output_type": "display_data"
    },
    {
     "data": {
      "text/plain": [
       "<ggplot: (8742421898641)>"
      ]
     },
     "execution_count": 21,
     "metadata": {},
     "output_type": "execute_result"
    }
   ],
   "source": [
    "(\n",
    "    ggplot(data=missing_df.round(2))\n",
    "    + aes(x='missing', y='mean') \n",
    "    + labs(\n",
    "        x = 'Missing rate',\n",
    "        y = 'Percentage') +\n",
    "    geom_bar(stat='identity',position='dodge') + \n",
    "    geom_errorbar(data=missing_df) + aes(ymin='ymin', ymax='ymax') + \n",
    "    scale_y_continuous(limits = (0,0.65), breaks=np.linspace(0,0.7,8)) + \n",
    "    theme(figure_size=(12,12), axis_text_x=element_text(size=20), axis_text_y=element_text(size=20), \\\n",
    "          axis_title_x=element_text(size=26, weight='normal'), axis_title_y=element_text(size=26, weight='normal'))\n",
    ")"
   ]
  },
  {
   "cell_type": "code",
   "execution_count": null,
   "metadata": {},
   "outputs": [],
   "source": []
  },
  {
   "cell_type": "code",
   "execution_count": null,
   "metadata": {},
   "outputs": [],
   "source": []
  },
  {
   "cell_type": "code",
   "execution_count": null,
   "metadata": {},
   "outputs": [],
   "source": []
  },
  {
   "cell_type": "markdown",
   "metadata": {},
   "source": [
    "### Missing setting"
   ]
  },
  {
   "cell_type": "code",
   "execution_count": 22,
   "metadata": {},
   "outputs": [
    {
     "data": {
      "text/plain": [
       "array([[10,  9,  3,  0],\n",
       "       [ 3, 10, 10,  7],\n",
       "       [ 0,  1,  1, 10]])"
      ]
     },
     "execution_count": 22,
     "metadata": {},
     "output_type": "execute_result"
    }
   ],
   "source": [
    "nc=4\n",
    "nr=3\n",
    "\n",
    "x_d = 1\n",
    "y_d = 1\n",
    "\n",
    "#X = np.random.randint(low=0, high=100, size=nc*nr).reshape(nr,nc)\n",
    "X = np.array([10,9,3,0,3,10,10,7,0,1,1,10]).reshape(nr,nc)\n",
    "X"
   ]
  },
  {
   "cell_type": "code",
   "execution_count": 23,
   "metadata": {},
   "outputs": [
    {
     "name": "stdout",
     "output_type": "stream",
     "text": [
      "0.4929 0.016163620456526025\n"
     ]
    },
    {
     "data": {
      "image/png": "[encoded data removed]",
      "text/plain": [
       "<Figure size 432x288 with 1 Axes>"
      ]
     },
     "metadata": {
      "needs_background": "light"
     },
     "output_type": "display_data"
    },
    {
     "name": "stdout",
     "output_type": "stream",
     "text": [
      "0.45234 0.073988836176736\n"
     ]
    },
    {
     "data": {
      "image/png": "[encoded data removed]",
      "text/plain": [
       "<Figure size 432x288 with 1 Axes>"
      ]
     },
     "metadata": {
      "needs_background": "light"
     },
     "output_type": "display_data"
    },
    {
     "name": "stdout",
     "output_type": "stream",
     "text": [
      "0.43289 0.08424961649044983\n"
     ]
    },
    {
     "data": {
      "image/png": "[encoded data removed]",
      "text/plain": [
       "<Figure size 432x288 with 1 Axes>"
      ]
     },
     "metadata": {
      "needs_background": "light"
     },
     "output_type": "display_data"
    },
    {
     "name": "stdout",
     "output_type": "stream",
     "text": [
      "0.39063 0.09606507211681091\n"
     ]
    },
    {
     "data": {
      "image/png": "[encoded data removed]",
      "text/plain": [
       "<Figure size 432x288 with 1 Axes>"
      ]
     },
     "metadata": {
      "needs_background": "light"
     },
     "output_type": "display_data"
    },
    {
     "name": "stdout",
     "output_type": "stream",
     "text": [
      "0.37749000000000016 0.0960927051331056\n"
     ]
    },
    {
     "data": {
      "image/png": "[encoded data removed]",
      "text/plain": [
       "<Figure size 432x288 with 1 Axes>"
      ]
     },
     "metadata": {
      "needs_background": "light"
     },
     "output_type": "display_data"
    }
   ],
   "source": [
    "missing_results = []\n",
    "\n",
    "for missing in [0, 0.05, 0.10, 0.15, 0.20]:\n",
    "    boot_sample_list = []\n",
    "    best_route_list = []\n",
    "\n",
    "    for _ in range(100):\n",
    "        X = np.array([10,9,3,0,3,10,10,7,0,1,1,10]).reshape(nr,nc)\n",
    "        if missing != 0:\n",
    "            X_missing = np.random.choice([-1, 1], 12, p=[missing, 1-missing]).reshape(nr,nc)\n",
    "            X = X * X_missing\n",
    "            \n",
    "            # Compute the median of the non-zero elements\n",
    "            m = round(np.mean(X[X > 0]))\n",
    "            # Assign the median to the zero elements \n",
    "            X[X < 0] = m\n",
    "\n",
    "        unique_routes = get_unique_routes(X)\n",
    "        unique_paths = get_path_from_routes(X, unique_routes)\n",
    "        #path_info_list = get_path_info_from_matrix(X)\n",
    "        boot_sample = bayesian_bootstrap(X, get_max_path_idx, 1000, unique_paths)\n",
    "\n",
    "        boot_sample_out = []\n",
    "        for idx in range(0,len(unique_routes)):\n",
    "            boot_sample_out.append([idx, sum(np.asarray(boot_sample)==idx)])\n",
    "        boot_sample_out = np.vstack(boot_sample_out)\n",
    "        boot_sample_list.append(boot_sample_out)\n",
    "\n",
    "        #best_route = path_info_list[1][np.argmax(boot_sample_out[:,1])]\n",
    "        best_route = unique_paths[np.argmax(boot_sample_out[:,1])]\n",
    "        best_route_list.append(best_route)\n",
    "        \n",
    "    boot_sample_df = pd.DataFrame(np.array(boot_sample_list)[:,:,1])/1000\n",
    "    missing_results.append(boot_sample_df)\n",
    "    \n",
    "    print(boot_sample_df.mean()[6], boot_sample_df.std()[6])\n",
    "    \n",
    "    plt.bar(range(10), boot_sample_df.mean(), yerr=boot_sample_df.std())\n",
    "    plt.ylim(0,1)\n",
    "    plt.title(missing)\n",
    "    plt.show()"
   ]
  },
  {
   "cell_type": "code",
   "execution_count": 24,
   "metadata": {},
   "outputs": [],
   "source": [
    "missing_df = []\n",
    "for i in range(5):\n",
    "    df = missing_results[i]\n",
    "    missing_df.append([df[6].mean(), df[6].std()])"
   ]
  },
  {
   "cell_type": "code",
   "execution_count": 25,
   "metadata": {},
   "outputs": [],
   "source": [
    "missing_df = pd.DataFrame(missing_df, columns=['mean', 'std'])\n",
    "missing_df['missing'] = ['0', '0.05', '0.10', '0.15', '0.20']\n",
    "missing_df['missing'] = missing_df['missing'].astype(str)"
   ]
  },
  {
   "cell_type": "code",
   "execution_count": 26,
   "metadata": {},
   "outputs": [
    {
     "data": {
      "text/html": [
       "<div>\n",
       "<style scoped>\n",
       "    .dataframe tbody tr th:only-of-type {\n",
       "        vertical-align: middle;\n",
       "    }\n",
       "\n",
       "    .dataframe tbody tr th {\n",
       "        vertical-align: top;\n",
       "    }\n",
       "\n",
       "    .dataframe thead th {\n",
       "        text-align: right;\n",
       "    }\n",
       "</style>\n",
       "<table border=\"1\" class=\"dataframe\">\n",
       "  <thead>\n",
       "    <tr style=\"text-align: right;\">\n",
       "      <th></th>\n",
       "      <th>mean</th>\n",
       "      <th>std</th>\n",
       "      <th>missing</th>\n",
       "      <th>ymin</th>\n",
       "      <th>ymax</th>\n",
       "    </tr>\n",
       "  </thead>\n",
       "  <tbody>\n",
       "    <tr>\n",
       "      <th>0</th>\n",
       "      <td>0.49290</td>\n",
       "      <td>0.016164</td>\n",
       "      <td>0</td>\n",
       "      <td>0.476736</td>\n",
       "      <td>0.509064</td>\n",
       "    </tr>\n",
       "    <tr>\n",
       "      <th>1</th>\n",
       "      <td>0.45234</td>\n",
       "      <td>0.073989</td>\n",
       "      <td>0.05</td>\n",
       "      <td>0.378351</td>\n",
       "      <td>0.526329</td>\n",
       "    </tr>\n",
       "    <tr>\n",
       "      <th>2</th>\n",
       "      <td>0.43289</td>\n",
       "      <td>0.084250</td>\n",
       "      <td>0.10</td>\n",
       "      <td>0.348640</td>\n",
       "      <td>0.517140</td>\n",
       "    </tr>\n",
       "    <tr>\n",
       "      <th>3</th>\n",
       "      <td>0.39063</td>\n",
       "      <td>0.096065</td>\n",
       "      <td>0.15</td>\n",
       "      <td>0.294565</td>\n",
       "      <td>0.486695</td>\n",
       "    </tr>\n",
       "    <tr>\n",
       "      <th>4</th>\n",
       "      <td>0.37749</td>\n",
       "      <td>0.096093</td>\n",
       "      <td>0.20</td>\n",
       "      <td>0.281397</td>\n",
       "      <td>0.473583</td>\n",
       "    </tr>\n",
       "  </tbody>\n",
       "</table>\n",
       "</div>"
      ],
      "text/plain": [
       "      mean       std missing      ymin      ymax\n",
       "0  0.49290  0.016164       0  0.476736  0.509064\n",
       "1  0.45234  0.073989    0.05  0.378351  0.526329\n",
       "2  0.43289  0.084250    0.10  0.348640  0.517140\n",
       "3  0.39063  0.096065    0.15  0.294565  0.486695\n",
       "4  0.37749  0.096093    0.20  0.281397  0.473583"
      ]
     },
     "execution_count": 26,
     "metadata": {},
     "output_type": "execute_result"
    }
   ],
   "source": [
    "missing_df['ymin'] = (missing_df['mean']-missing_df['std']).clip(lower=0)\n",
    "missing_df['ymax'] = (missing_df['mean']+missing_df['std']).clip(lower=0)\n",
    "missing_df"
   ]
  },
  {
   "cell_type": "code",
   "execution_count": 27,
   "metadata": {},
   "outputs": [
    {
     "data": {
      "image/png": "[encoded data removed]",
      "text/plain": [
       "<Figure size 1200x1200 with 1 Axes>"
      ]
     },
     "metadata": {},
     "output_type": "display_data"
    },
    {
     "data": {
      "text/plain": [
       "<ggplot: (8742422150089)>"
      ]
     },
     "execution_count": 27,
     "metadata": {},
     "output_type": "execute_result"
    }
   ],
   "source": [
    "(\n",
    "    ggplot(data=missing_df.round(2))\n",
    "    + aes(x='missing', y='mean') \n",
    "    + labs(\n",
    "        x = 'Missing rate',\n",
    "        y = 'Percentage') +\n",
    "    geom_bar(stat='identity',position='dodge') + \n",
    "    geom_errorbar(data=missing_df) + aes(ymin='ymin', ymax='ymax') + \n",
    "    scale_y_continuous(limits = (0,0.65), breaks=np.linspace(0,0.7,8)) + \n",
    "    theme(figure_size=(12,12), axis_text_x=element_text(size=20), axis_text_y=element_text(size=20), \\\n",
    "          axis_title_x=element_text(size=26, weight='normal'), axis_title_y=element_text(size=26, weight='normal'))\n",
    ")"
   ]
  },
  {
   "cell_type": "code",
   "execution_count": null,
   "metadata": {},
   "outputs": [],
   "source": []
  },
  {
   "cell_type": "code",
   "execution_count": null,
   "metadata": {},
   "outputs": [],
   "source": []
  },
  {
   "cell_type": "code",
   "execution_count": null,
   "metadata": {},
   "outputs": [],
   "source": []
  }
 ],
 "metadata": {
  "kernelspec": {
   "display_name": "test",
   "language": "python",
   "name": "test"
  },
  "language_info": {
   "codemirror_mode": {
    "name": "ipython",
    "version": 3
   },
   "file_extension": ".py",
   "mimetype": "text/x-python",
   "name": "python",
   "nbconvert_exporter": "python",
   "pygments_lexer": "ipython3",
   "version": "3.7.7"
  }
 },
 "nbformat": 4,
 "nbformat_minor": 4
}
