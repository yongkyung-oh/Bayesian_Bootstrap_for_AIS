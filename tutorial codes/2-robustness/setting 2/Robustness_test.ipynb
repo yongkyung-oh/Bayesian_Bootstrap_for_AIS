{
 "cells": [
  {
   "cell_type": "markdown",
   "metadata": {},
   "source": [
    "## Robustness Test"
   ]
  },
  {
   "cell_type": "markdown",
   "metadata": {},
   "source": [
    "### Normal setting"
   ]
  },
  {
   "cell_type": "code",
   "execution_count": 1,
   "metadata": {},
   "outputs": [],
   "source": [
    "import os\n",
    "import numpy as np\n",
    "import pandas as pd\n",
    "import matplotlib.pyplot as plt\n",
    "%matplotlib inline\n",
    "\n",
    "import math\n",
    "import time\n",
    "import pickle\n",
    "import random\n",
    "\n",
    "from itertools import permutations\n",
    "from functions import *\n",
    "\n",
    "SEED = 123\n",
    "random.seed(SEED)\n",
    "np.random.seed(SEED)"
   ]
  },
  {
   "cell_type": "code",
   "execution_count": 2,
   "metadata": {},
   "outputs": [],
   "source": [
    "from plotnine import ggplot, aes, labs, scales, theme, element_rect, element_text, geom_line, geom_point, geom_bar, geom_errorbar, geom_text, scale_x_continuous, scale_y_continuous"
   ]
  },
  {
   "cell_type": "code",
   "execution_count": 3,
   "metadata": {},
   "outputs": [
    {
     "data": {
      "text/plain": [
       "array([[10,  9,  3,  0],\n",
       "       [ 3, 10, 10,  7],\n",
       "       [ 0,  1,  1, 10]])"
      ]
     },
     "execution_count": 3,
     "metadata": {},
     "output_type": "execute_result"
    }
   ],
   "source": [
    "nc=4\n",
    "nr=3\n",
    "\n",
    "x_d = 1\n",
    "y_d = 1\n",
    "\n",
    "#X = np.random.randint(low=0, high=100, size=nc*nr).reshape(nr,nc)\n",
    "X = np.array([10,9,3,0,3,10,10,7,0,1,1,10]).reshape(nr,nc)\n",
    "X"
   ]
  },
  {
   "cell_type": "code",
   "execution_count": 4,
   "metadata": {},
   "outputs": [
    {
     "data": {
      "text/plain": [
       "array([[-1, -1,  1,  1,  1],\n",
       "       [-1,  1, -1,  1,  1],\n",
       "       [-1,  1,  1, -1,  1],\n",
       "       [-1,  1,  1,  1, -1],\n",
       "       [ 1, -1, -1,  1,  1],\n",
       "       [ 1, -1,  1, -1,  1],\n",
       "       [ 1, -1,  1,  1, -1],\n",
       "       [ 1,  1, -1, -1,  1],\n",
       "       [ 1,  1, -1,  1, -1],\n",
       "       [ 1,  1,  1, -1, -1]])"
      ]
     },
     "execution_count": 4,
     "metadata": {},
     "output_type": "execute_result"
    }
   ],
   "source": [
    "unique_routes = get_unique_routes(X)\n",
    "unique_routes"
   ]
  },
  {
   "cell_type": "code",
   "execution_count": 5,
   "metadata": {},
   "outputs": [
    {
     "data": {
      "text/plain": [
       "[{'path_id': 0, 'path': [(0, 0), (1, 0), (2, 0), (2, 1), (2, 2), (2, 3)]},\n",
       " {'path_id': 1, 'path': [(0, 0), (1, 0), (1, 1), (2, 1), (2, 2), (2, 3)]},\n",
       " {'path_id': 2, 'path': [(0, 0), (1, 0), (1, 1), (1, 2), (2, 2), (2, 3)]},\n",
       " {'path_id': 3, 'path': [(0, 0), (1, 0), (1, 1), (1, 2), (1, 3), (2, 3)]},\n",
       " {'path_id': 4, 'path': [(0, 0), (0, 1), (1, 1), (2, 1), (2, 2), (2, 3)]},\n",
       " {'path_id': 5, 'path': [(0, 0), (0, 1), (1, 1), (1, 2), (2, 2), (2, 3)]},\n",
       " {'path_id': 6, 'path': [(0, 0), (0, 1), (1, 1), (1, 2), (1, 3), (2, 3)]},\n",
       " {'path_id': 7, 'path': [(0, 0), (0, 1), (0, 2), (1, 2), (2, 2), (2, 3)]},\n",
       " {'path_id': 8, 'path': [(0, 0), (0, 1), (0, 2), (1, 2), (1, 3), (2, 3)]},\n",
       " {'path_id': 9, 'path': [(0, 0), (0, 1), (0, 2), (0, 3), (1, 3), (2, 3)]}]"
      ]
     },
     "execution_count": 5,
     "metadata": {},
     "output_type": "execute_result"
    }
   ],
   "source": [
    "unique_paths = get_path_from_routes(X, unique_routes)\n",
    "unique_paths"
   ]
  },
  {
   "cell_type": "code",
   "execution_count": 6,
   "metadata": {},
   "outputs": [
    {
     "name": "stdout",
     "output_type": "stream",
     "text": [
      "0 25\n",
      "1 35\n",
      "2 44\n",
      "3 50\n",
      "4 41\n",
      "5 50\n",
      "6 56\n",
      "7 43\n",
      "8 49\n",
      "9 39\n"
     ]
    }
   ],
   "source": [
    "for path_info in unique_paths:\n",
    "    print(path_info['path_id'],get_weight_from_path(X,path_info['path']))"
   ]
  },
  {
   "cell_type": "code",
   "execution_count": 7,
   "metadata": {},
   "outputs": [],
   "source": [
    "unique_routes = get_unique_routes(X)\n",
    "unique_paths = get_path_from_routes(X, unique_routes)\n",
    "#path_info_list = get_path_info_from_matrix(X)\n",
    "boot_sample = bayesian_bootstrap(X, get_max_path_idx, 1000, unique_paths)\n",
    "\n",
    "boot_sample_out = []\n",
    "for idx in range(0,len(unique_routes)):\n",
    "    boot_sample_out.append([idx, sum(np.asarray(boot_sample)==idx)])\n",
    "boot_sample_out = np.vstack(boot_sample_out)\n",
    "\n",
    "#best_route = path_info_list[1][np.argmax(boot_sample_out[:,1])]\n",
    "best_route = unique_paths[np.argmax(boot_sample_out[:,1])]"
   ]
  },
  {
   "cell_type": "code",
   "execution_count": 8,
   "metadata": {},
   "outputs": [
    {
     "data": {
      "image/png": "[encoded data removed]",
      "text/plain": [
       "<Figure size 432x288 with 1 Axes>"
      ]
     },
     "metadata": {
      "needs_background": "light"
     },
     "output_type": "display_data"
    }
   ],
   "source": [
    "plt.bar(boot_sample_out[:,0], boot_sample_out[:,1])\n",
    "plt.show()"
   ]
  },
  {
   "cell_type": "code",
   "execution_count": 9,
   "metadata": {},
   "outputs": [],
   "source": [
    "boot_sample_out_all = []\n",
    "for i in range(len(unique_routes)):\n",
    "    boot_sample_out_all.append(np.array([i, boot_sample_out[boot_sample_out[:,0]==i][0][1]]))\n",
    "        \n",
    "boot_sample_out_all = np.vstack(boot_sample_out_all)\n",
    "\n",
    "out_name = 'grid_example_normal'\n",
    "with open(out_name, 'wb') as f:\n",
    "    pickle.dump(boot_sample_out_all, f)"
   ]
  },
  {
   "cell_type": "code",
   "execution_count": 10,
   "metadata": {},
   "outputs": [
    {
     "data": {
      "text/plain": [
       "array([[  0,   0],\n",
       "       [  1,   2],\n",
       "       [  2,  41],\n",
       "       [  3, 173],\n",
       "       [  4,  12],\n",
       "       [  5,  69],\n",
       "       [  6, 503],\n",
       "       [  7,  23],\n",
       "       [  8, 172],\n",
       "       [  9,   5]])"
      ]
     },
     "execution_count": 10,
     "metadata": {},
     "output_type": "execute_result"
    }
   ],
   "source": [
    "boot_sample_out_all"
   ]
  },
  {
   "cell_type": "code",
   "execution_count": 11,
   "metadata": {},
   "outputs": [
    {
     "data": {
      "text/plain": [
       "(0.503, 0)"
      ]
     },
     "execution_count": 11,
     "metadata": {},
     "output_type": "execute_result"
    }
   ],
   "source": [
    "normal_mean = boot_sample_out_all[6][1]/1000\n",
    "normal_std = 0\n",
    "normal_mean, normal_std"
   ]
  },
  {
   "cell_type": "code",
   "execution_count": null,
   "metadata": {},
   "outputs": [],
   "source": []
  },
  {
   "cell_type": "markdown",
   "metadata": {},
   "source": [
    "### Noisy setting"
   ]
  },
  {
   "cell_type": "code",
   "execution_count": 12,
   "metadata": {},
   "outputs": [
    {
     "data": {
      "text/plain": [
       "array([[10,  9,  3,  0],\n",
       "       [ 3, 10, 10,  7],\n",
       "       [ 0,  1,  1, 10]])"
      ]
     },
     "execution_count": 12,
     "metadata": {},
     "output_type": "execute_result"
    }
   ],
   "source": [
    "nc=4\n",
    "nr=3\n",
    "\n",
    "x_d = 1\n",
    "y_d = 1\n",
    "\n",
    "#X = np.random.randint(low=0, high=100, size=nc*nr).reshape(nr,nc)\n",
    "X = np.array([10,9,3,0,3,10,10,7,0,1,1,10]).reshape(nr,nc)\n",
    "X"
   ]
  },
  {
   "cell_type": "code",
   "execution_count": 13,
   "metadata": {},
   "outputs": [
    {
     "name": "stdout",
     "output_type": "stream",
     "text": [
      "0.49324999999999997 0.016057582619932547\n"
     ]
    },
    {
     "data": {
      "image/png": "[encoded data removed]",
      "text/plain": [
       "<Figure size 432x288 with 1 Axes>"
      ]
     },
     "metadata": {
      "needs_background": "light"
     },
     "output_type": "display_data"
    },
    {
     "name": "stdout",
     "output_type": "stream",
     "text": [
      "0.49407999999999985 0.015973892841923437\n"
     ]
    },
    {
     "data": {
      "image/png": "[encoded data removed]",
      "text/plain": [
       "<Figure size 432x288 with 1 Axes>"
      ]
     },
     "metadata": {
      "needs_background": "light"
     },
     "output_type": "display_data"
    },
    {
     "name": "stdout",
     "output_type": "stream",
     "text": [
      "0.44716000000000017 0.03761869296780605\n"
     ]
    },
    {
     "data": {
      "image/png": "[encoded data removed]",
      "text/plain": [
       "<Figure size 432x288 with 1 Axes>"
      ]
     },
     "metadata": {
      "needs_background": "light"
     },
     "output_type": "display_data"
    },
    {
     "name": "stdout",
     "output_type": "stream",
     "text": [
      "0.40902 0.050218106115406044\n"
     ]
    },
    {
     "data": {
      "image/png": "[encoded data removed]",
      "text/plain": [
       "<Figure size 432x288 with 1 Axes>"
      ]
     },
     "metadata": {
      "needs_background": "light"
     },
     "output_type": "display_data"
    },
    {
     "name": "stdout",
     "output_type": "stream",
     "text": [
      "0.3675100000000001 0.05405094772059922\n"
     ]
    },
    {
     "data": {
      "image/png": "[encoded data removed]",
      "text/plain": [
       "<Figure size 432x288 with 1 Axes>"
      ]
     },
     "metadata": {
      "needs_background": "light"
     },
     "output_type": "display_data"
    }
   ],
   "source": [
    "noisy_results = []\n",
    "\n",
    "for noise in [0, 1, 2, 3, 4]:\n",
    "    boot_sample_list = []\n",
    "    best_route_list = []\n",
    "\n",
    "    for _ in range(100):\n",
    "        X = np.array([10,9,3,0,3,10,10,7,0,1,1,10]).reshape(nr,nc)\n",
    "        if noise != 0:\n",
    "            X_noise = np.random.randint(low=0, high=noise, size=nc*nr).reshape(nr,nc)\n",
    "            X = X + X_noise\n",
    "            X = X.clip(0)\n",
    "\n",
    "        unique_routes = get_unique_routes(X)\n",
    "        unique_paths = get_path_from_routes(X, unique_routes)\n",
    "        #path_info_list = get_path_info_from_matrix(X)\n",
    "        boot_sample = bayesian_bootstrap(X, get_max_path_idx, 1000, unique_paths)\n",
    "\n",
    "        boot_sample_out = []\n",
    "        for idx in range(0,len(unique_routes)):\n",
    "            boot_sample_out.append([idx, sum(np.asarray(boot_sample)==idx)])\n",
    "        boot_sample_out = np.vstack(boot_sample_out)\n",
    "        boot_sample_list.append(boot_sample_out)\n",
    "\n",
    "        #best_route = path_info_list[1][np.argmax(boot_sample_out[:,1])]\n",
    "        best_route = unique_paths[np.argmax(boot_sample_out[:,1])]\n",
    "        best_route_list.append(best_route)\n",
    "        \n",
    "    boot_sample_df = pd.DataFrame(np.array(boot_sample_list)[:,:,1])/1000\n",
    "    noisy_results.append(boot_sample_df)\n",
    "    \n",
    "    print(boot_sample_df.mean()[6], boot_sample_df.std()[6])\n",
    "    \n",
    "    plt.bar(range(10), boot_sample_df.mean(), yerr=boot_sample_df.std())\n",
    "    plt.ylim(0,1)\n",
    "    plt.title(noise)\n",
    "    plt.show()"
   ]
  },
  {
   "cell_type": "code",
   "execution_count": null,
   "metadata": {},
   "outputs": [],
   "source": []
  },
  {
   "cell_type": "code",
   "execution_count": 14,
   "metadata": {},
   "outputs": [],
   "source": [
    "noisy_df = []\n",
    "for i in range(5):\n",
    "    df = noisy_results[i]\n",
    "    noisy_df.append([df[6].mean(), df[6].std()])"
   ]
  },
  {
   "cell_type": "code",
   "execution_count": 15,
   "metadata": {},
   "outputs": [],
   "source": [
    "noisy_df = pd.DataFrame(noisy_df, columns=['mean', 'std'])\n",
    "noisy_df.iloc[0]['mean'] = normal_mean\n",
    "noisy_df.iloc[0]['std'] = normal_std"
   ]
  },
  {
   "cell_type": "code",
   "execution_count": 16,
   "metadata": {},
   "outputs": [],
   "source": [
    "noisy_df['noise'] = ['0', '1', '2', '3', '4']\n",
    "noisy_df['noise'] = noisy_df['noise'].astype(str)"
   ]
  },
  {
   "cell_type": "code",
   "execution_count": 17,
   "metadata": {},
   "outputs": [
    {
     "data": {
      "text/html": [
       "<div>\n",
       "<style scoped>\n",
       "    .dataframe tbody tr th:only-of-type {\n",
       "        vertical-align: middle;\n",
       "    }\n",
       "\n",
       "    .dataframe tbody tr th {\n",
       "        vertical-align: top;\n",
       "    }\n",
       "\n",
       "    .dataframe thead th {\n",
       "        text-align: right;\n",
       "    }\n",
       "</style>\n",
       "<table border=\"1\" class=\"dataframe\">\n",
       "  <thead>\n",
       "    <tr style=\"text-align: right;\">\n",
       "      <th></th>\n",
       "      <th>mean</th>\n",
       "      <th>std</th>\n",
       "      <th>noise</th>\n",
       "      <th>ymin</th>\n",
       "      <th>ymax</th>\n",
       "    </tr>\n",
       "  </thead>\n",
       "  <tbody>\n",
       "    <tr>\n",
       "      <th>0</th>\n",
       "      <td>0.50300</td>\n",
       "      <td>0.000000</td>\n",
       "      <td>0</td>\n",
       "      <td>0.503000</td>\n",
       "      <td>0.503000</td>\n",
       "    </tr>\n",
       "    <tr>\n",
       "      <th>1</th>\n",
       "      <td>0.49408</td>\n",
       "      <td>0.015974</td>\n",
       "      <td>1</td>\n",
       "      <td>0.478106</td>\n",
       "      <td>0.510054</td>\n",
       "    </tr>\n",
       "    <tr>\n",
       "      <th>2</th>\n",
       "      <td>0.44716</td>\n",
       "      <td>0.037619</td>\n",
       "      <td>2</td>\n",
       "      <td>0.409541</td>\n",
       "      <td>0.484779</td>\n",
       "    </tr>\n",
       "    <tr>\n",
       "      <th>3</th>\n",
       "      <td>0.40902</td>\n",
       "      <td>0.050218</td>\n",
       "      <td>3</td>\n",
       "      <td>0.358802</td>\n",
       "      <td>0.459238</td>\n",
       "    </tr>\n",
       "    <tr>\n",
       "      <th>4</th>\n",
       "      <td>0.36751</td>\n",
       "      <td>0.054051</td>\n",
       "      <td>4</td>\n",
       "      <td>0.313459</td>\n",
       "      <td>0.421561</td>\n",
       "    </tr>\n",
       "  </tbody>\n",
       "</table>\n",
       "</div>"
      ],
      "text/plain": [
       "      mean       std noise      ymin      ymax\n",
       "0  0.50300  0.000000     0  0.503000  0.503000\n",
       "1  0.49408  0.015974     1  0.478106  0.510054\n",
       "2  0.44716  0.037619     2  0.409541  0.484779\n",
       "3  0.40902  0.050218     3  0.358802  0.459238\n",
       "4  0.36751  0.054051     4  0.313459  0.421561"
      ]
     },
     "execution_count": 17,
     "metadata": {},
     "output_type": "execute_result"
    }
   ],
   "source": [
    "noisy_df['ymin'] = (noisy_df['mean']-noisy_df['std']).clip(lower=0)\n",
    "noisy_df['ymax'] = (noisy_df['mean']+noisy_df['std']).clip(lower=0)\n",
    "noisy_df"
   ]
  },
  {
   "cell_type": "code",
   "execution_count": 18,
   "metadata": {},
   "outputs": [
    {
     "data": {
      "image/png": "[encoded data removed]",
      "text/plain": [
       "<Figure size 1200x1200 with 1 Axes>"
      ]
     },
     "metadata": {},
     "output_type": "display_data"
    },
    {
     "data": {
      "text/plain": [
       "<ggplot: (8765224767953)>"
      ]
     },
     "execution_count": 18,
     "metadata": {},
     "output_type": "execute_result"
    }
   ],
   "source": [
    "(\n",
    "    ggplot(data=noisy_df)\n",
    "    + aes(x='noise', y='mean') \n",
    "    + labs(\n",
    "        x = 'Noise level',\n",
    "        y = 'Percentage') +\n",
    "    geom_bar(stat='identity',position='dodge') + \n",
    "    geom_errorbar(data=noisy_df) + aes(ymin='ymin', ymax='ymax') + \n",
    "    scale_y_continuous(limits = (0,0.65), breaks=np.linspace(0,0.7,8)) + \n",
    "    theme(figure_size=(12,12), axis_text_x=element_text(size=20), axis_text_y=element_text(size=20), \\\n",
    "          axis_title_x=element_text(size=26, weight='normal'), axis_title_y=element_text(size=26, weight='normal'))\n",
    ")"
   ]
  },
  {
   "cell_type": "code",
   "execution_count": null,
   "metadata": {},
   "outputs": [],
   "source": []
  },
  {
   "cell_type": "code",
   "execution_count": null,
   "metadata": {},
   "outputs": [],
   "source": []
  },
  {
   "cell_type": "code",
   "execution_count": null,
   "metadata": {},
   "outputs": [],
   "source": []
  },
  {
   "cell_type": "markdown",
   "metadata": {},
   "source": [
    "### Missing setting"
   ]
  },
  {
   "cell_type": "code",
   "execution_count": 19,
   "metadata": {},
   "outputs": [
    {
     "data": {
      "text/plain": [
       "array([[10,  9,  3,  0],\n",
       "       [ 3, 10, 10,  7],\n",
       "       [ 0,  1,  1, 10]])"
      ]
     },
     "execution_count": 19,
     "metadata": {},
     "output_type": "execute_result"
    }
   ],
   "source": [
    "nc=4\n",
    "nr=3\n",
    "\n",
    "x_d = 1\n",
    "y_d = 1\n",
    "\n",
    "#X = np.random.randint(low=0, high=100, size=nc*nr).reshape(nr,nc)\n",
    "X = np.array([10,9,3,0,3,10,10,7,0,1,1,10]).reshape(nr,nc)\n",
    "X"
   ]
  },
  {
   "cell_type": "code",
   "execution_count": 20,
   "metadata": {},
   "outputs": [
    {
     "name": "stdout",
     "output_type": "stream",
     "text": [
      "0.4953699999999999 0.01599536233292689\n"
     ]
    },
    {
     "data": {
      "image/png": "[encoded data removed]",
      "text/plain": [
       "<Figure size 432x288 with 1 Axes>"
      ]
     },
     "metadata": {
      "needs_background": "light"
     },
     "output_type": "display_data"
    },
    {
     "name": "stdout",
     "output_type": "stream",
     "text": [
      "0.46638999999999997 0.061158164713397925\n"
     ]
    },
    {
     "data": {
      "image/png": "[encoded data removed]",
      "text/plain": [
       "<Figure size 432x288 with 1 Axes>"
      ]
     },
     "metadata": {
      "needs_background": "light"
     },
     "output_type": "display_data"
    },
    {
     "name": "stdout",
     "output_type": "stream",
     "text": [
      "0.431 0.08231474455841536\n"
     ]
    },
    {
     "data": {
      "image/png": "[encoded data removed]",
      "text/plain": [
       "<Figure size 432x288 with 1 Axes>"
      ]
     },
     "metadata": {
      "needs_background": "light"
     },
     "output_type": "display_data"
    },
    {
     "name": "stdout",
     "output_type": "stream",
     "text": [
      "0.39210000000000006 0.10269121115501974\n"
     ]
    },
    {
     "data": {
      "image/png": "[encoded data removed]",
      "text/plain": [
       "<Figure size 432x288 with 1 Axes>"
      ]
     },
     "metadata": {
      "needs_background": "light"
     },
     "output_type": "display_data"
    },
    {
     "name": "stdout",
     "output_type": "stream",
     "text": [
      "0.3854600000000001 0.0995308611599052\n"
     ]
    },
    {
     "data": {
      "image/png": "[encoded data removed]",
      "text/plain": [
       "<Figure size 432x288 with 1 Axes>"
      ]
     },
     "metadata": {
      "needs_background": "light"
     },
     "output_type": "display_data"
    }
   ],
   "source": [
    "missing_results = []\n",
    "\n",
    "for missing in [0, 0.05, 0.10, 0.15, 0.20]:\n",
    "    boot_sample_list = []\n",
    "    best_route_list = []\n",
    "\n",
    "    for _ in range(100):\n",
    "        X = np.array([10,9,3,0,3,10,10,7,0,1,1,10]).reshape(nr,nc)\n",
    "        if missing != 0:\n",
    "            X_missing = np.random.choice([-1, 1], 12, p=[missing, 1-missing]).reshape(nr,nc)\n",
    "            X = X * X_missing\n",
    "            \n",
    "            # Compute the median of the non-zero elements\n",
    "            m = round(np.mean(X[X > 0]))\n",
    "            # Assign the median to the zero elements \n",
    "            X[X < 0] = m\n",
    "\n",
    "        unique_routes = get_unique_routes(X)\n",
    "        unique_paths = get_path_from_routes(X, unique_routes)\n",
    "        #path_info_list = get_path_info_from_matrix(X)\n",
    "        boot_sample = bayesian_bootstrap(X, get_max_path_idx, 1000, unique_paths)\n",
    "\n",
    "        boot_sample_out = []\n",
    "        for idx in range(0,len(unique_routes)):\n",
    "            boot_sample_out.append([idx, sum(np.asarray(boot_sample)==idx)])\n",
    "        boot_sample_out = np.vstack(boot_sample_out)\n",
    "        boot_sample_list.append(boot_sample_out)\n",
    "\n",
    "        #best_route = path_info_list[1][np.argmax(boot_sample_out[:,1])]\n",
    "        best_route = unique_paths[np.argmax(boot_sample_out[:,1])]\n",
    "        best_route_list.append(best_route)\n",
    "        \n",
    "    boot_sample_df = pd.DataFrame(np.array(boot_sample_list)[:,:,1])/1000\n",
    "    missing_results.append(boot_sample_df)\n",
    "    \n",
    "    print(boot_sample_df.mean()[6], boot_sample_df.std()[6])\n",
    "    \n",
    "    plt.bar(range(10), boot_sample_df.mean(), yerr=boot_sample_df.std())\n",
    "    plt.ylim(0,1)\n",
    "    plt.title(missing)\n",
    "    plt.show()"
   ]
  },
  {
   "cell_type": "code",
   "execution_count": 21,
   "metadata": {},
   "outputs": [],
   "source": [
    "missing_df = []\n",
    "for i in range(5):\n",
    "    df = missing_results[i]\n",
    "    missing_df.append([df[6].mean(), df[6].std()])"
   ]
  },
  {
   "cell_type": "code",
   "execution_count": 22,
   "metadata": {},
   "outputs": [],
   "source": [
    "missing_df = pd.DataFrame(missing_df, columns=['mean', 'std'])\n",
    "missing_df.iloc[0]['mean'] = normal_mean\n",
    "missing_df.iloc[0]['std'] = normal_std"
   ]
  },
  {
   "cell_type": "code",
   "execution_count": 23,
   "metadata": {},
   "outputs": [],
   "source": [
    "missing_df['missing'] = ['0', '0.05', '0.10', '0.15', '0.20']\n",
    "missing_df['missing'] = missing_df['missing'].astype(str)"
   ]
  },
  {
   "cell_type": "code",
   "execution_count": 24,
   "metadata": {},
   "outputs": [
    {
     "data": {
      "text/html": [
       "<div>\n",
       "<style scoped>\n",
       "    .dataframe tbody tr th:only-of-type {\n",
       "        vertical-align: middle;\n",
       "    }\n",
       "\n",
       "    .dataframe tbody tr th {\n",
       "        vertical-align: top;\n",
       "    }\n",
       "\n",
       "    .dataframe thead th {\n",
       "        text-align: right;\n",
       "    }\n",
       "</style>\n",
       "<table border=\"1\" class=\"dataframe\">\n",
       "  <thead>\n",
       "    <tr style=\"text-align: right;\">\n",
       "      <th></th>\n",
       "      <th>mean</th>\n",
       "      <th>std</th>\n",
       "      <th>missing</th>\n",
       "      <th>ymin</th>\n",
       "      <th>ymax</th>\n",
       "    </tr>\n",
       "  </thead>\n",
       "  <tbody>\n",
       "    <tr>\n",
       "      <th>0</th>\n",
       "      <td>0.50300</td>\n",
       "      <td>0.000000</td>\n",
       "      <td>0</td>\n",
       "      <td>0.503000</td>\n",
       "      <td>0.503000</td>\n",
       "    </tr>\n",
       "    <tr>\n",
       "      <th>1</th>\n",
       "      <td>0.46639</td>\n",
       "      <td>0.061158</td>\n",
       "      <td>0.05</td>\n",
       "      <td>0.405232</td>\n",
       "      <td>0.527548</td>\n",
       "    </tr>\n",
       "    <tr>\n",
       "      <th>2</th>\n",
       "      <td>0.43100</td>\n",
       "      <td>0.082315</td>\n",
       "      <td>0.10</td>\n",
       "      <td>0.348685</td>\n",
       "      <td>0.513315</td>\n",
       "    </tr>\n",
       "    <tr>\n",
       "      <th>3</th>\n",
       "      <td>0.39210</td>\n",
       "      <td>0.102691</td>\n",
       "      <td>0.15</td>\n",
       "      <td>0.289409</td>\n",
       "      <td>0.494791</td>\n",
       "    </tr>\n",
       "    <tr>\n",
       "      <th>4</th>\n",
       "      <td>0.38546</td>\n",
       "      <td>0.099531</td>\n",
       "      <td>0.20</td>\n",
       "      <td>0.285929</td>\n",
       "      <td>0.484991</td>\n",
       "    </tr>\n",
       "  </tbody>\n",
       "</table>\n",
       "</div>"
      ],
      "text/plain": [
       "      mean       std missing      ymin      ymax\n",
       "0  0.50300  0.000000       0  0.503000  0.503000\n",
       "1  0.46639  0.061158    0.05  0.405232  0.527548\n",
       "2  0.43100  0.082315    0.10  0.348685  0.513315\n",
       "3  0.39210  0.102691    0.15  0.289409  0.494791\n",
       "4  0.38546  0.099531    0.20  0.285929  0.484991"
      ]
     },
     "execution_count": 24,
     "metadata": {},
     "output_type": "execute_result"
    }
   ],
   "source": [
    "missing_df['ymin'] = (missing_df['mean']-missing_df['std']).clip(lower=0)\n",
    "missing_df['ymax'] = (missing_df['mean']+missing_df['std']).clip(lower=0)\n",
    "missing_df"
   ]
  },
  {
   "cell_type": "code",
   "execution_count": 25,
   "metadata": {},
   "outputs": [
    {
     "data": {
      "image/png": "[encoded data removed]",
      "text/plain": [
       "<Figure size 1200x1200 with 1 Axes>"
      ]
     },
     "metadata": {},
     "output_type": "display_data"
    },
    {
     "data": {
      "text/plain": [
       "<ggplot: (8765224515617)>"
      ]
     },
     "execution_count": 25,
     "metadata": {},
     "output_type": "execute_result"
    }
   ],
   "source": [
    "(\n",
    "    ggplot(data=missing_df)\n",
    "    + aes(x='missing', y='mean') \n",
    "    + labs(\n",
    "        x = 'Missing rate',\n",
    "        y = 'Percentage') +\n",
    "    geom_bar(stat='identity',position='dodge') + \n",
    "    geom_errorbar(data=missing_df) + aes(ymin='ymin', ymax='ymax') + \n",
    "    scale_y_continuous(limits = (0,0.65), breaks=np.linspace(0,0.7,8)) + \n",
    "    theme(figure_size=(12,12), axis_text_x=element_text(size=20), axis_text_y=element_text(size=20), \\\n",
    "          axis_title_x=element_text(size=26, weight='normal'), axis_title_y=element_text(size=26, weight='normal'))\n",
    ")"
   ]
  },
  {
   "cell_type": "code",
   "execution_count": null,
   "metadata": {},
   "outputs": [],
   "source": []
  },
  {
   "cell_type": "code",
   "execution_count": null,
   "metadata": {},
   "outputs": [],
   "source": []
  },
  {
   "cell_type": "code",
   "execution_count": null,
   "metadata": {},
   "outputs": [],
   "source": []
  }
 ],
 "metadata": {
  "kernelspec": {
   "display_name": "test",
   "language": "python",
   "name": "test"
  },
  "language_info": {
   "codemirror_mode": {
    "name": "ipython",
    "version": 3
   },
   "file_extension": ".py",
   "mimetype": "text/x-python",
   "name": "python",
   "nbconvert_exporter": "python",
   "pygments_lexer": "ipython3",
   "version": "3.7.7"
  }
 },
 "nbformat": 4,
 "nbformat_minor": 4
}
