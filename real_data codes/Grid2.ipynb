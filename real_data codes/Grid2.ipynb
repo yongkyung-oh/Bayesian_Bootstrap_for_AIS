{
 "cells": [
  {
   "cell_type": "markdown",
   "metadata": {},
   "source": [
    "## Visualize grid 2 in the real example"
   ]
  },
  {
   "cell_type": "code",
   "execution_count": 1,
   "metadata": {},
   "outputs": [],
   "source": [
    "import os\n",
    "import numpy as np\n",
    "import pandas as pd\n",
    "import matplotlib.pyplot as plt\n",
    "%matplotlib inline\n",
    "\n",
    "import math\n",
    "import time\n",
    "\n",
    "from itertools import permutations\n",
    "from functions import *\n",
    "\n",
    "np.random.seed(1234)"
   ]
  },
  {
   "cell_type": "code",
   "execution_count": 2,
   "metadata": {},
   "outputs": [],
   "source": [
    "PATH_START = (121.46, 31.22) #(CNWGQ: 31.22N, 121.46E) \n",
    "PATH_END = (174.77, -36.87) #(NZAKL: 36.87S 174.77E)\n",
    "THRESHOLD = 0.5"
   ]
  },
  {
   "cell_type": "code",
   "execution_count": 3,
   "metadata": {},
   "outputs": [],
   "source": [
    "file_list = os.listdir('out')\n",
    "file_list.sort()"
   ]
  },
  {
   "cell_type": "code",
   "execution_count": 4,
   "metadata": {},
   "outputs": [],
   "source": [
    "grid_list = []\n",
    "\n",
    "for file_name in file_list:\n",
    "    if file_name.endswith('.csv'):\n",
    "        with open(os.path.join('out', file_name), 'r') as f:\n",
    "            grid = np.genfromtxt(f, delimiter=',')\n",
    "            grid_list.append(grid)"
   ]
  },
  {
   "cell_type": "code",
   "execution_count": 5,
   "metadata": {},
   "outputs": [],
   "source": [
    "grid_list_reshape = []\n",
    "for grid in grid_list:\n",
    "    if len(grid.shape) == 1:\n",
    "        grid = grid.reshape(-1,1)\n",
    "    grid_list_reshape.append(grid)\n",
    "\n",
    "grid_list = grid_list_reshape"
   ]
  },
  {
   "cell_type": "code",
   "execution_count": 6,
   "metadata": {},
   "outputs": [
    {
     "data": {
      "image/png": "[encoded data removed]",
      "text/plain": [
       "<Figure size 1152x864 with 25 Axes>"
      ]
     },
     "metadata": {
      "needs_background": "light"
     },
     "output_type": "display_data"
    }
   ],
   "source": [
    "fig, ax = plt.subplots(nrows=5, ncols=5, figsize=(16,12))\n",
    "fig.subplots_adjust(wspace=0.3, hspace=0.3)\n",
    "\n",
    "i = 0\n",
    "for row in ax:\n",
    "    for col in row:\n",
    "        if i == len(grid_list):\n",
    "            col.plot()\n",
    "            col.axis('off')\n",
    "            continue\n",
    "        col.imshow(grid_list[i], cmap='jet')\n",
    "        #for (j,i),label in np.ndenumerate(grid_list[i]):\n",
    "        #    col.text(i,j,int(label),ha='center',va='center')\n",
    "        col.axis('off')\n",
    "        i += 1"
   ]
  },
  {
   "cell_type": "code",
   "execution_count": 7,
   "metadata": {},
   "outputs": [],
   "source": [
    "import pickle\n",
    "\n",
    "out_name = 'out/grid_info_list'\n",
    "with open(out_name, 'rb') as f:\n",
    "    grid_info_list = pickle.load(f)\n",
    "    \n",
    "out_name = 'out/best_route_list'\n",
    "with open(out_name, 'rb') as f:\n",
    "    best_route_list = pickle.load(f)\n",
    "    \n",
    "out_name = 'out/boot_sample_list'\n",
    "with open(out_name, 'rb') as f:\n",
    "    boot_sample_list = pickle.load(f)"
   ]
  },
  {
   "cell_type": "code",
   "execution_count": null,
   "metadata": {},
   "outputs": [],
   "source": []
  },
  {
   "cell_type": "code",
   "execution_count": null,
   "metadata": {},
   "outputs": [],
   "source": []
  },
  {
   "cell_type": "code",
   "execution_count": 8,
   "metadata": {},
   "outputs": [],
   "source": [
    "def get_n_routes(grid):\n",
    "    n_routes = math.factorial(grid.shape[0]-1+grid.shape[1]-1)/math.factorial(grid.shape[0]-1)/math.factorial(grid.shape[1]-1)\n",
    "    return int(n_routes)"
   ]
  },
  {
   "cell_type": "code",
   "execution_count": 9,
   "metadata": {},
   "outputs": [
    {
     "data": {
      "text/plain": [
       "12870"
      ]
     },
     "execution_count": 9,
     "metadata": {},
     "output_type": "execute_result"
    }
   ],
   "source": [
    "nr, nc = (9,9)\n",
    "X = np.random.randint(low=0, high=100, size=nc*nr).reshape(nr,nc)\n",
    "get_n_routes(X)"
   ]
  },
  {
   "cell_type": "code",
   "execution_count": 10,
   "metadata": {},
   "outputs": [
    {
     "data": {
      "text/plain": [
       "array([[435.,   0.,   0.,   0.],\n",
       "       [384.,  27.,   0.,   0.],\n",
       "       [148., 106.,   0.,   0.],\n",
       "       [  0.,  91.,   0.,   0.],\n",
       "       [  0.,  87.,  43.,   0.],\n",
       "       [ 42.,   0.,  96.,  12.],\n",
       "       [ 12.,  84.,   0., 118.]])"
      ]
     },
     "execution_count": 10,
     "metadata": {},
     "output_type": "execute_result"
    }
   ],
   "source": [
    "X = grid_list[1]\n",
    "X"
   ]
  },
  {
   "cell_type": "code",
   "execution_count": 11,
   "metadata": {},
   "outputs": [],
   "source": [
    "(x_s, y_s, x_e, y_e, x_d, y_d) = grid_info_list[1]\n",
    "X = grid_list[1]"
   ]
  },
  {
   "cell_type": "code",
   "execution_count": 12,
   "metadata": {},
   "outputs": [
    {
     "name": "stdout",
     "output_type": "stream",
     "text": [
      "[7, 0, 10, 6, 1, 1] (7, 4) 84\n",
      "time (s): 0.5366068338043988\n"
     ]
    },
    {
     "data": {
      "image/png": "[encoded data removed]",
      "text/plain": [
       "<Figure size 432x288 with 1 Axes>"
      ]
     },
     "metadata": {
      "needs_background": "light"
     },
     "output_type": "display_data"
    }
   ],
   "source": [
    "print([x_s, y_s, x_e, y_e, x_d, y_d], X.shape, get_n_routes(X))\n",
    "start_time = time.perf_counter()\n",
    "\n",
    "if x_d == -1:\n",
    "    X = np.fliplr(X)\n",
    "if y_d == -1:\n",
    "    X = np.flipud(X)\n",
    "\n",
    "unique_routes = get_unique_routes(X)\n",
    "unique_paths = get_path_from_routes(X, unique_routes)\n",
    "#path_info_list = get_path_info_from_matrix(X)\n",
    "boot_sample = bayesian_bootstrap(X, get_max_path_idx, 1000, unique_paths)\n",
    "\n",
    "boot_sample_out = []\n",
    "for idx in range(0,len(unique_routes)):\n",
    "    boot_sample_out.append([idx, sum(np.asarray(boot_sample)==idx)])\n",
    "boot_sample_out = np.vstack(boot_sample_out)\n",
    "boot_sample_list.append(boot_sample_out)\n",
    "\n",
    "#best_route = path_info_list[1][np.argmax(boot_sample_out[:,1])]\n",
    "best_route = unique_paths[np.argmax(boot_sample_out[:,1])]\n",
    "#best_route_list.append(best_route)\n",
    "\n",
    "print('time (s): {}'.format(time.perf_counter()-start_time))\n",
    "\n",
    "plt.bar(boot_sample_out[:,0], boot_sample_out[:,1])\n",
    "plt.show()"
   ]
  },
  {
   "cell_type": "code",
   "execution_count": 13,
   "metadata": {},
   "outputs": [
    {
     "data": {
      "text/plain": [
       "array([[435.,   0.,   0.,   0.],\n",
       "       [384.,  27.,   0.,   0.],\n",
       "       [148., 106.,   0.,   0.],\n",
       "       [  0.,  91.,   0.,   0.],\n",
       "       [  0.,  87.,  43.,   0.],\n",
       "       [ 42.,   0.,  96.,  12.],\n",
       "       [ 12.,  84.,   0., 118.]])"
      ]
     },
     "execution_count": 13,
     "metadata": {},
     "output_type": "execute_result"
    }
   ],
   "source": [
    "X"
   ]
  },
  {
   "cell_type": "code",
   "execution_count": 14,
   "metadata": {},
   "outputs": [
    {
     "data": {
      "text/plain": [
       "array([[  0,  20],\n",
       "       [  3,   3],\n",
       "       [ 10,   1],\n",
       "       [ 14,   1],\n",
       "       [ 20, 216],\n",
       "       [ 22,   4],\n",
       "       [ 23,   6],\n",
       "       [ 24, 605],\n",
       "       [ 25,   1],\n",
       "       [ 27,   3],\n",
       "       [ 35,  40],\n",
       "       [ 38,   1],\n",
       "       [ 39,  97],\n",
       "       [ 42,   2]])"
      ]
     },
     "execution_count": 14,
     "metadata": {},
     "output_type": "execute_result"
    }
   ],
   "source": [
    "boot_sample_out_selected = boot_sample_out[np.where(boot_sample_out[:,1]!=0)[0]]\n",
    "boot_sample_out_selected"
   ]
  },
  {
   "cell_type": "code",
   "execution_count": 15,
   "metadata": {},
   "outputs": [
    {
     "data": {
      "image/png": "[encoded data removed]",
      "text/plain": [
       "<Figure size 432x288 with 1 Axes>"
      ]
     },
     "metadata": {
      "needs_background": "light"
     },
     "output_type": "display_data"
    }
   ],
   "source": [
    "plt.bar([str(x) for x in boot_sample_out_selected[:,0]], boot_sample_out_selected[:,1]/1000*100)\n",
    "plt.xticks(rotation=-90)\n",
    "plt.xlabel('index')\n",
    "plt.ylabel('percentage (%)')\n",
    "plt.show()"
   ]
  },
  {
   "cell_type": "code",
   "execution_count": null,
   "metadata": {},
   "outputs": [],
   "source": []
  },
  {
   "cell_type": "code",
   "execution_count": 16,
   "metadata": {},
   "outputs": [],
   "source": [
    "out_name = 'out_exp/grid2_example'\n",
    "with open(out_name, 'wb') as f:\n",
    "    pickle.dump(boot_sample_out_selected, f)"
   ]
  },
  {
   "cell_type": "code",
   "execution_count": 17,
   "metadata": {},
   "outputs": [],
   "source": [
    "out_name = 'out_exp/grid2_example'\n",
    "with open(out_name, 'rb') as f:\n",
    "    grid2_example = pickle.load(f)"
   ]
  },
  {
   "cell_type": "code",
   "execution_count": 18,
   "metadata": {},
   "outputs": [],
   "source": [
    "available_route_list = []\n",
    "for idx in grid2_example[:,0]:\n",
    "    available_route_list.append(unique_paths[idx])"
   ]
  },
  {
   "cell_type": "code",
   "execution_count": 19,
   "metadata": {},
   "outputs": [],
   "source": [
    "out_name = 'out_exp/grid2_available_route_list'\n",
    "with open(out_name, 'wb') as f:\n",
    "    pickle.dump(available_route_list, f)"
   ]
  },
  {
   "cell_type": "code",
   "execution_count": 20,
   "metadata": {},
   "outputs": [],
   "source": [
    "available_route_list = []\n",
    "available_route_list.append(best_route)"
   ]
  },
  {
   "cell_type": "code",
   "execution_count": 21,
   "metadata": {},
   "outputs": [],
   "source": [
    "out_name = 'out_exp/grid2_best_route_list'\n",
    "with open(out_name, 'wb') as f:\n",
    "    pickle.dump(available_route_list, f)"
   ]
  },
  {
   "cell_type": "code",
   "execution_count": null,
   "metadata": {},
   "outputs": [],
   "source": []
  },
  {
   "cell_type": "code",
   "execution_count": 22,
   "metadata": {},
   "outputs": [],
   "source": [
    "X = grid_list[1]\n",
    "exp_grid_list = [X]"
   ]
  },
  {
   "cell_type": "code",
   "execution_count": 23,
   "metadata": {},
   "outputs": [],
   "source": [
    "out_name = 'out_exp/exp_grid_list2'\n",
    "with open(out_name, 'wb') as f:\n",
    "    pickle.dump(exp_grid_list, f)"
   ]
  }
 ],
 "metadata": {
  "kernelspec": {
   "display_name": "test",
   "language": "python",
   "name": "test"
  },
  "language_info": {
   "codemirror_mode": {
    "name": "ipython",
    "version": 3
   },
   "file_extension": ".py",
   "mimetype": "text/x-python",
   "name": "python",
   "nbconvert_exporter": "python",
   "pygments_lexer": "ipython3",
   "version": "3.7.7"
  }
 },
 "nbformat": 4,
 "nbformat_minor": 4
}
